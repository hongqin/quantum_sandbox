{
  "nbformat": 4,
  "nbformat_minor": 0,
  "metadata": {
    "colab": {
      "provenance": [],
      "include_colab_link": true
    },
    "kernelspec": {
      "name": "python3",
      "display_name": "Python 3"
    },
    "language_info": {
      "name": "python"
    }
  },
  "cells": [
    {
      "cell_type": "markdown",
      "metadata": {
        "id": "view-in-github",
        "colab_type": "text"
      },
      "source": [
        "<a href=\"https://colab.research.google.com/github/hongqin/quantum_sandbox/blob/main/QuantumComputing_QML_Backpropagation.ipynb\" target=\"_parent\"><img src=\"https://colab.research.google.com/assets/colab-badge.svg\" alt=\"Open In Colab\"/></a>"
      ]
    },
    {
      "cell_type": "markdown",
      "source": [
        "### Quantum Computing Workshop, July 09-11, 2024\n",
        "### Function: Computer the gradient using backpropagation\n",
        "### Author: Yu Liang, Department of Computer Science and Engineering, UTC"
      ],
      "metadata": {
        "id": "rdIkXc3Vmu8U"
      }
    },
    {
      "cell_type": "markdown",
      "source": [
        "### Step 1: import the library"
      ],
      "metadata": {
        "id": "SrkMNa3pl4QZ"
      }
    },
    {
      "cell_type": "code",
      "source": [
        "import torch"
      ],
      "metadata": {
        "id": "1rh3BL10k_FP"
      },
      "execution_count": null,
      "outputs": []
    },
    {
      "cell_type": "markdown",
      "source": [
        "### Step 2: initialize the parameters [x,y,z]"
      ],
      "metadata": {
        "id": "oaQStC-xl9b0"
      }
    },
    {
      "cell_type": "code",
      "source": [
        "x = torch.tensor([-2.], requires_grad=True)\n",
        "y = torch.tensor([5.], requires_grad=True)\n",
        "z = torch.tensor([-4.], requires_grad=True)"
      ],
      "metadata": {
        "id": "ukK17w3alUgn"
      },
      "execution_count": null,
      "outputs": []
    },
    {
      "cell_type": "markdown",
      "source": [
        "### Step 3: Forward Pass"
      ],
      "metadata": {
        "id": "SK9nQ1a9mHTA"
      }
    },
    {
      "cell_type": "code",
      "source": [
        "q=x+y\n",
        "L=q*z\n",
        "print(L)"
      ],
      "metadata": {
        "colab": {
          "base_uri": "https://localhost:8080/"
        },
        "id": "XQdf39-SlkKe",
        "outputId": "ab600a0b-11d9-4bb7-c42f-c4f8d45ef088"
      },
      "execution_count": null,
      "outputs": [
        {
          "output_type": "stream",
          "name": "stdout",
          "text": [
            "tensor([-12.], grad_fn=<MulBackward0>)\n"
          ]
        }
      ]
    },
    {
      "cell_type": "markdown",
      "source": [
        "### Step 4: Backward Pass"
      ],
      "metadata": {
        "id": "5bYzf8WemNTw"
      }
    },
    {
      "cell_type": "code",
      "source": [
        "L.backward()"
      ],
      "metadata": {
        "id": "YLrQamrDmTai"
      },
      "execution_count": null,
      "outputs": []
    },
    {
      "cell_type": "markdown",
      "source": [
        "### Step 5: Output the gradient $\\nabla L$"
      ],
      "metadata": {
        "id": "52NLGJPrmZTV"
      }
    },
    {
      "cell_type": "code",
      "source": [
        "print(x.grad, y.grad, z.grad)"
      ],
      "metadata": {
        "colab": {
          "base_uri": "https://localhost:8080/"
        },
        "id": "1j3XXe_dlJBa",
        "outputId": "ccbc28dd-b916-4b58-eaee-730c8aad5491"
      },
      "execution_count": null,
      "outputs": [
        {
          "output_type": "stream",
          "name": "stdout",
          "text": [
            "tensor([-4.]) tensor([-4.]) tensor([3.])\n"
          ]
        }
      ]
    }
  ]
}