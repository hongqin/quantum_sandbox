{
  "nbformat": 4,
  "nbformat_minor": 0,
  "metadata": {
    "colab": {
      "provenance": [],
      "include_colab_link": true
    },
    "kernelspec": {
      "name": "python3",
      "display_name": "Python 3"
    },
    "language_info": {
      "name": "python"
    }
  },
  "cells": [
    {
      "cell_type": "markdown",
      "metadata": {
        "id": "view-in-github",
        "colab_type": "text"
      },
      "source": [
        "<a href=\"https://colab.research.google.com/github/hongqin/quantum_sandbox/blob/main/202403_LiangCPSC3999_Ex04_3QubitGHZ_NoisySimulator.ipynb\" target=\"_parent\"><img src=\"https://colab.research.google.com/assets/colab-badge.svg\" alt=\"Open In Colab\"/></a>"
      ]
    },
    {
      "cell_type": "markdown",
      "source": [
        "# Exercise 04: Show the 3-qubit GHZ state on ideal and noisy aer Simulator\n",
        "\n",
        "https://qiskit.github.io/qiskit-aer/tutorials/2_device_noise_simulation.html"
      ],
      "metadata": {
        "id": "N96NUv_klfgu"
      }
    },
    {
      "cell_type": "markdown",
      "source": [
        "## PART 1: Import the library"
      ],
      "metadata": {
        "id": "lOUoF2_TYgXJ"
      }
    },
    {
      "cell_type": "code",
      "source": [
        "!pip install qiskit ipywidgets --quiet"
      ],
      "metadata": {
        "id": "SrUCOrFClTZH",
        "colab": {
          "base_uri": "https://localhost:8080/"
        },
        "outputId": "d7aa0817-f7ec-49ec-87b8-1bf844629ffa"
      },
      "execution_count": null,
      "outputs": [
        {
          "output_type": "stream",
          "name": "stdout",
          "text": [
            "\u001b[2K     \u001b[90m━━━━━━━━━━━━━━━━━━━━━━━━━━━━━━━━━━━━━━━━\u001b[0m \u001b[32m5.6/5.6 MB\u001b[0m \u001b[31m16.1 MB/s\u001b[0m eta \u001b[36m0:00:00\u001b[0m\n",
            "\u001b[2K     \u001b[90m━━━━━━━━━━━━━━━━━━━━━━━━━━━━━━━━━━━━━━━━\u001b[0m \u001b[32m2.1/2.1 MB\u001b[0m \u001b[31m54.7 MB/s\u001b[0m eta \u001b[36m0:00:00\u001b[0m\n",
            "\u001b[2K     \u001b[90m━━━━━━━━━━━━━━━━━━━━━━━━━━━━━━━━━━━━━━━━\u001b[0m \u001b[32m116.3/116.3 kB\u001b[0m \u001b[31m9.0 MB/s\u001b[0m eta \u001b[36m0:00:00\u001b[0m\n",
            "\u001b[2K     \u001b[90m━━━━━━━━━━━━━━━━━━━━━━━━━━━━━━━━━━━━━━━━\u001b[0m \u001b[32m49.7/49.7 kB\u001b[0m \u001b[31m3.1 MB/s\u001b[0m eta \u001b[36m0:00:00\u001b[0m\n",
            "\u001b[2K     \u001b[90m━━━━━━━━━━━━━━━━━━━━━━━━━━━━━━━━━━━━━━━━\u001b[0m \u001b[32m39.4/39.4 MB\u001b[0m \u001b[31m10.2 MB/s\u001b[0m eta \u001b[36m0:00:00\u001b[0m\n",
            "\u001b[2K     \u001b[90m━━━━━━━━━━━━━━━━━━━━━━━━━━━━━━━━━━━━━━━━\u001b[0m \u001b[32m1.6/1.6 MB\u001b[0m \u001b[31m23.8 MB/s\u001b[0m eta \u001b[36m0:00:00\u001b[0m\n",
            "\u001b[2K     \u001b[90m━━━━━━━━━━━━━━━━━━━━━━━━━━━━━━━━━━━━━━━━\u001b[0m \u001b[32m107.5/107.5 kB\u001b[0m \u001b[31m10.6 MB/s\u001b[0m eta \u001b[36m0:00:00\u001b[0m\n",
            "\u001b[?25h"
          ]
        }
      ]
    },
    {
      "cell_type": "code",
      "source": [
        "import numpy as np\n",
        "\n",
        "# Import Qiskit\n",
        "from qiskit import QuantumCircuit\n",
        "from qiskit import transpile\n",
        "from qiskit.visualization import plot_histogram, plot_state_city\n",
        "# from matplotlib import style\n",
        "%matplotlib inline\n",
        "import qiskit.quantum_info as qi"
      ],
      "metadata": {
        "id": "q7AIXH1gKraQ"
      },
      "execution_count": null,
      "outputs": []
    },
    {
      "cell_type": "markdown",
      "source": [
        "## Part 2: Define the Quantum Circuit"
      ],
      "metadata": {
        "id": "YqtWZiePY-tW"
      }
    },
    {
      "cell_type": "markdown",
      "source": [
        "### 2.1: Create the circuit"
      ],
      "metadata": {
        "id": "9WtYxOa5TugK"
      }
    },
    {
      "cell_type": "code",
      "source": [
        "# Create circuit\n",
        "circ = QuantumCircuit(3, 3)\n",
        "circ.h(0)\n",
        "circ.cx(0, 1)\n",
        "circ.cx(1, 2)"
      ],
      "metadata": {
        "colab": {
          "base_uri": "https://localhost:8080/"
        },
        "id": "YtUXcrBpRD51",
        "outputId": "7788951a-ca2c-4c46-f953-961b740c18b5"
      },
      "execution_count": null,
      "outputs": [
        {
          "output_type": "execute_result",
          "data": {
            "text/plain": [
              "<qiskit.circuit.instructionset.InstructionSet at 0x793e64be5990>"
            ]
          },
          "metadata": {},
          "execution_count": 3
        }
      ]
    },
    {
      "cell_type": "markdown",
      "source": [
        "### 2.2: Measure and show the circuit"
      ],
      "metadata": {
        "id": "MOY0Pn_PTnxl"
      }
    },
    {
      "cell_type": "code",
      "source": [
        "circ.measure([0,1,2],[0,1,2])\n",
        "circ.draw()"
      ],
      "metadata": {
        "id": "hQmBSftNRj1E",
        "colab": {
          "base_uri": "https://localhost:8080/",
          "height": 156
        },
        "outputId": "d8f892b7-b4f4-4de8-b5f9-9ef2116a182a"
      },
      "execution_count": null,
      "outputs": [
        {
          "output_type": "execute_result",
          "data": {
            "text/plain": [
              "     ┌───┐          ┌─┐      \n",
              "q_0: ┤ H ├──■───────┤M├──────\n",
              "     └───┘┌─┴─┐     └╥┘┌─┐   \n",
              "q_1: ─────┤ X ├──■───╫─┤M├───\n",
              "          └───┘┌─┴─┐ ║ └╥┘┌─┐\n",
              "q_2: ──────────┤ X ├─╫──╫─┤M├\n",
              "               └───┘ ║  ║ └╥┘\n",
              "c: 3/════════════════╩══╩══╩═\n",
              "                     0  1  2 "
            ],
            "text/html": [
              "<pre style=\"word-wrap: normal;white-space: pre;background: #fff0;line-height: 1.1;font-family: &quot;Courier New&quot;,Courier,monospace\">     ┌───┐          ┌─┐      \n",
              "q_0: ┤ H ├──■───────┤M├──────\n",
              "     └───┘┌─┴─┐     └╥┘┌─┐   \n",
              "q_1: ─────┤ X ├──■───╫─┤M├───\n",
              "          └───┘┌─┴─┐ ║ └╥┘┌─┐\n",
              "q_2: ──────────┤ X ├─╫──╫─┤M├\n",
              "               └───┘ ║  ║ └╥┘\n",
              "c: 3/════════════════╩══╩══╩═\n",
              "                     0  1  2 </pre>"
            ]
          },
          "metadata": {},
          "execution_count": 4
        }
      ]
    },
    {
      "cell_type": "markdown",
      "source": [
        "## Part 3: Transpile and run on aer simulator"
      ],
      "metadata": {
        "id": "NwQHk3X9ZLOj"
      }
    },
    {
      "cell_type": "markdown",
      "source": [
        "### 3.1: Setup the Ideal aer simulator"
      ],
      "metadata": {
        "id": "DRtmW4sn4-lS"
      }
    },
    {
      "cell_type": "code",
      "source": [
        "!pip install qiskit-aer --quiet\n",
        "from qiskit_aer import Aer\n",
        "\n",
        "Aer.backends()\n",
        "\n",
        "simulator = Aer.get_backend('aer_simulator')"
      ],
      "metadata": {
        "id": "-yOwRW6F5h9R",
        "colab": {
          "base_uri": "https://localhost:8080/"
        },
        "outputId": "6b7edf33-040d-44b6-a16f-1c3b4c93e021"
      },
      "execution_count": null,
      "outputs": [
        {
          "output_type": "stream",
          "name": "stdout",
          "text": [
            "\u001b[2K     \u001b[90m━━━━━━━━━━━━━━━━━━━━━━━━━━━━━━━━━━━━━━━━\u001b[0m \u001b[32m12.3/12.3 MB\u001b[0m \u001b[31m28.5 MB/s\u001b[0m eta \u001b[36m0:00:00\u001b[0m\n",
            "\u001b[?25h"
          ]
        }
      ]
    },
    {
      "cell_type": "markdown",
      "source": [
        "### 3.2: Transpile and run the circuit on aer simulator"
      ],
      "metadata": {
        "id": "15QkOEBo5Iwn"
      }
    },
    {
      "cell_type": "code",
      "source": [
        "# Transpile for simulator\n",
        "simulator = Aer.get_backend('aer_simulator')\n",
        "circ = transpile(circ, simulator)\n",
        "\n",
        "# Run and get counts\n",
        "result = simulator.run(circ).result()\n",
        "counts = result.get_counts(circ)\n",
        "plot_histogram(counts, title='GHZ-State counts with ideal simulator')"
      ],
      "metadata": {
        "id": "5SM6Na7tQ4fm",
        "colab": {
          "base_uri": "https://localhost:8080/",
          "height": 495
        },
        "outputId": "ccd45917-27a9-43ff-a322-84d0af563a9f"
      },
      "execution_count": null,
      "outputs": [
        {
          "output_type": "execute_result",
          "data": {
            "text/plain": [
              "<Figure size 700x500 with 1 Axes>"
            ],
            "image/png": "[encoded data removed]"
          },
          "metadata": {},
          "execution_count": 6
        }
      ]
    },
    {
      "cell_type": "markdown",
      "source": [
        "## PART 4: Transpile and run on an noisy simulator"
      ],
      "metadata": {
        "id": "QyY3lGAU4vat"
      }
    },
    {
      "cell_type": "markdown",
      "source": [
        "### 4.1: Set up the aer noisy simulator"
      ],
      "metadata": {
        "id": "J4m2DOgk7CMu"
      }
    },
    {
      "cell_type": "code",
      "source": [
        "# !pip install qiskit-ibmq-provider"
      ],
      "metadata": {
        "id": "C3auXQtH_oD0"
      },
      "execution_count": null,
      "outputs": []
    },
    {
      "cell_type": "code",
      "source": [
        "from qiskit.providers.fake_provider import FakeVigo\n",
        "device_backend = FakeVigo()"
      ],
      "metadata": {
        "id": "0ESlqJLN7Rxm",
        "colab": {
          "base_uri": "https://localhost:8080/"
        },
        "outputId": "c52c7adf-b1e3-4494-cb89-db79b5e07f0f"
      },
      "execution_count": null,
      "outputs": [
        {
          "output_type": "error",
          "ename": "ImportError",
          "evalue": "cannot import name 'FakeVigo' from 'qiskit.providers.fake_provider' (/usr/local/lib/python3.10/dist-packages/qiskit/providers/fake_provider/__init__.py)",
          "traceback": [
            "\u001b[0;31m---------------------------------------------------------------------------\u001b[0m",
            "\u001b[0;31mImportError\u001b[0m                               Traceback (most recent call last)",
            "\u001b[0;32m<ipython-input-8-5b00451e5a37>\u001b[0m in \u001b[0;36m<cell line: 1>\u001b[0;34m()\u001b[0m\n\u001b[0;32m----> 1\u001b[0;31m \u001b[0;32mfrom\u001b[0m \u001b[0mqiskit\u001b[0m\u001b[0;34m.\u001b[0m\u001b[0mproviders\u001b[0m\u001b[0;34m.\u001b[0m\u001b[0mfake_provider\u001b[0m \u001b[0;32mimport\u001b[0m \u001b[0mFakeVigo\u001b[0m\u001b[0;34m\u001b[0m\u001b[0;34m\u001b[0m\u001b[0m\n\u001b[0m\u001b[1;32m      2\u001b[0m \u001b[0mdevice_backend\u001b[0m \u001b[0;34m=\u001b[0m \u001b[0mFakeVigo\u001b[0m\u001b[0;34m(\u001b[0m\u001b[0;34m)\u001b[0m\u001b[0;34m\u001b[0m\u001b[0;34m\u001b[0m\u001b[0m\n",
            "\u001b[0;31mImportError\u001b[0m: cannot import name 'FakeVigo' from 'qiskit.providers.fake_provider' (/usr/local/lib/python3.10/dist-packages/qiskit/providers/fake_provider/__init__.py)",
            "",
            "\u001b[0;31m---------------------------------------------------------------------------\u001b[0;32m\nNOTE: If your import is failing due to a missing package, you can\nmanually install dependencies using either !pip or !apt.\n\nTo view examples of installing some common dependencies, click the\n\"Open Examples\" button below.\n\u001b[0;31m---------------------------------------------------------------------------\u001b[0m\n"
          ],
          "errorDetails": {
            "actions": [
              {
                "action": "open_url",
                "actionText": "Open Examples",
                "url": "/notebooks/snippets/importing_libraries.ipynb"
              }
            ]
          }
        }
      ]
    },
    {
      "cell_type": "code",
      "source": [
        "sim_vigo = AerSimulator.from_backend(device_backend)"
      ],
      "metadata": {
        "id": "iaezPfHK45JX"
      },
      "execution_count": null,
      "outputs": []
    },
    {
      "cell_type": "markdown",
      "source": [
        "### 4.2: transpile and run on the noisy simulator"
      ],
      "metadata": {
        "id": "_uf4dJ6L7Ivv"
      }
    },
    {
      "cell_type": "code",
      "source": [
        "# Transpile the circuit for the noisy basis gates\n",
        "tcirc = transpile(circ, sim_vigo)\n",
        "\n",
        "# Execute noisy simulation and get counts\n",
        "result_noise = sim_vigo.run(tcirc).result()\n",
        "counts_noise = result_noise.get_counts(0)\n",
        "plot_histogram(counts_noise,\n",
        "               title=\"Counts for 3-qubit GHZ state with device noise model\")"
      ],
      "metadata": {
        "id": "Q0i7M5pK8YJA"
      },
      "execution_count": null,
      "outputs": []
    }
  ]
}