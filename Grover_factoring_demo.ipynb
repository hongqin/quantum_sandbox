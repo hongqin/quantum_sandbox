{
 "cells": [
  {
   "cell_type": "code",
   "execution_count": 3,
   "id": "3aa5f6dc-623c-4a44-9559-9fdc9275e81a",
   "metadata": {
    "tags": []
   },
   "outputs": [
    {
     "name": "stdout",
     "output_type": "stream",
     "text": [
      "Collecting qiskit_algorithms\n",
      "  Downloading qiskit_algorithms-0.2.1-py3-none-any.whl (306 kB)\n",
      "\u001b[2K     \u001b[90m━━━━━━━━━━━━━━━━━━━━━━━━━━━━━━━━━━━━━\u001b[0m \u001b[32m306.9/306.9 kB\u001b[0m \u001b[31m547.2 kB/s\u001b[0m eta \u001b[36m0:00:00\u001b[0ma \u001b[36m0:00:01\u001b[0m\n",
      "\u001b[?25hRequirement already satisfied: numpy>=1.17 in /opt/conda/lib/python3.10/site-packages (from qiskit_algorithms) (1.23.5)\n",
      "Requirement already satisfied: qiskit-terra>=0.24 in /opt/conda/lib/python3.10/site-packages (from qiskit_algorithms) (0.25.1)\n",
      "Requirement already satisfied: scipy>=1.4 in /opt/conda/lib/python3.10/site-packages (from qiskit_algorithms) (1.9.3)\n",
      "Requirement already satisfied: stevedore>=3.0.0 in /opt/conda/lib/python3.10/site-packages (from qiskit-terra>=0.24->qiskit_algorithms) (4.1.1)\n",
      "Requirement already satisfied: sympy>=1.3 in /opt/conda/lib/python3.10/site-packages (from qiskit-terra>=0.24->qiskit_algorithms) (1.11.1)\n",
      "Requirement already satisfied: rustworkx>=0.13.0 in /opt/conda/lib/python3.10/site-packages (from qiskit-terra>=0.24->qiskit_algorithms) (0.13.0)\n",
      "Requirement already satisfied: ply>=3.10 in /opt/conda/lib/python3.10/site-packages (from qiskit-terra>=0.24->qiskit_algorithms) (3.11)\n",
      "Requirement already satisfied: symengine<0.10,>=0.9 in /opt/conda/lib/python3.10/site-packages (from qiskit-terra>=0.24->qiskit_algorithms) (0.9.2)\n",
      "Requirement already satisfied: dill>=0.3 in /opt/conda/lib/python3.10/site-packages (from qiskit-terra>=0.24->qiskit_algorithms) (0.3.7)\n",
      "Requirement already satisfied: typing-extensions in /opt/conda/lib/python3.10/site-packages (from qiskit-terra>=0.24->qiskit_algorithms) (4.5.0)\n",
      "Requirement already satisfied: python-dateutil>=2.8.0 in /opt/conda/lib/python3.10/site-packages (from qiskit-terra>=0.24->qiskit_algorithms) (2.8.2)\n",
      "Requirement already satisfied: psutil>=5 in /opt/conda/lib/python3.10/site-packages (from qiskit-terra>=0.24->qiskit_algorithms) (5.9.4)\n",
      "Requirement already satisfied: six>=1.5 in /opt/conda/lib/python3.10/site-packages (from python-dateutil>=2.8.0->qiskit-terra>=0.24->qiskit_algorithms) (1.16.0)\n",
      "Requirement already satisfied: pbr!=2.1.0,>=2.0.0 in /opt/conda/lib/python3.10/site-packages (from stevedore>=3.0.0->qiskit-terra>=0.24->qiskit_algorithms) (5.11.1)\n",
      "Requirement already satisfied: mpmath>=0.19 in /opt/conda/lib/python3.10/site-packages (from sympy>=1.3->qiskit-terra>=0.24->qiskit_algorithms) (1.3.0)\n",
      "Installing collected packages: qiskit_algorithms\n",
      "Successfully installed qiskit_algorithms-0.2.1\n",
      "\n",
      "\u001b[1m[\u001b[0m\u001b[34;49mnotice\u001b[0m\u001b[1;39;49m]\u001b[0m\u001b[39;49m A new release of pip available: \u001b[0m\u001b[31;49m23.1.1\u001b[0m\u001b[39;49m -> \u001b[0m\u001b[32;49m23.3.1\u001b[0m\n",
      "\u001b[1m[\u001b[0m\u001b[34;49mnotice\u001b[0m\u001b[1;39;49m]\u001b[0m\u001b[39;49m To update, run: \u001b[0m\u001b[32;49mpip install --upgrade pip\u001b[0m\n"
     ]
    }
   ],
   "source": [
    "!pip install qiskit_algorithms"
   ]
  },
  {
   "cell_type": "code",
   "execution_count": 9,
   "id": "420abbeb-e2d4-4f8f-a6ed-6b701384b0d3",
   "metadata": {
    "tags": []
   },
   "outputs": [
    {
     "name": "stdout",
     "output_type": "stream",
     "text": [
      "Traceback \u001b[1;36m(most recent call last)\u001b[0m:\n",
      "\u001b[0m  Cell \u001b[0;32mIn[9], line 9\u001b[0m\n",
      "    oracle.append(IntegerComparator(6, 15 // 3, geq=False), oracle.qubits)  # Check if number is less than 3\u001b[0m\n",
      "\u001b[0m  File \u001b[0;32m/opt/conda/lib/python3.10/site-packages/qiskit/circuit/quantumcircuit.py:1289\u001b[0m in \u001b[0;35mappend\u001b[0m\n",
      "    for qarg, carg in operation.broadcast_arguments(expanded_qargs, expanded_cargs):\u001b[0m\n",
      "\u001b[1;36m  File \u001b[1;32m/opt/conda/lib/python3.10/site-packages/qiskit/circuit/instruction.py:490\u001b[1;36m in \u001b[1;35mbroadcast_arguments\u001b[1;36m\n",
      "\u001b[1;33m    raise CircuitError(\u001b[1;36m\n",
      "\u001b[1;31mCircuitError\u001b[0m\u001b[1;31m:\u001b[0m 'The amount of qubit arguments 5 does not match the instruction expectation (12).'\n",
      "\n",
      "Use %tb to get the full traceback.\n"
     ]
    },
    {
     "data": {
      "text/html": [
       "\n",
       "<style>\n",
       ".button {\n",
       "  border: none;\n",
       "  color: white;\n",
       "  padding: 4px 8px;\n",
       "  text-align: center;\n",
       "  text-decoration: none;\n",
       "  display: inline-block;\n",
       "  font-size: 12px;\n",
       "  margin: 4px 2px;\n",
       "  transition-duration: 0.2s;\n",
       "  cursor: pointer;\n",
       "}\n",
       ".iqx-button {\n",
       "  background-color: #0f62fe; \n",
       "  color: white; \n",
       "}\n",
       ".iqx-button:hover {\n",
       "  background-color: #0043ce;\n",
       "  color: white;\n",
       "}\n",
       "</style>\n",
       "<a href=\"https://stackoverflow.com/search?q=CircuitError: The amount of qubit arguments 5 does not match the instruction expectation (12).\" target='_blank'><button class='button iqx-button'>Search for solution online</button></a>\n"
      ],
      "text/plain": [
       "<IPython.core.display.HTML object>"
      ]
     },
     "metadata": {},
     "output_type": "display_data"
    }
   ],
   "source": [
    "# Necessary imports\n",
    "from qiskit import Aer, QuantumCircuit, transpile, assemble\n",
    "from qiskit.visualization import plot_histogram\n",
    "from qiskit.circuit.library import IntegerComparator\n",
    "from qiskit_algorithms import Grover  # Adjusted import path for Grover\n",
    "\n",
    "# Define the Oracle for N=3x5\n",
    "oracle = QuantumCircuit(5)  # We use 5 qubits to encode the numbers up to 15\n",
    "oracle.append(IntegerComparator(6, 15 // 3, geq=False), oracle.qubits)  # Check if number is less than 3\n",
    "oracle.append(IntegerComparator(6, 15 // 5, leq=False), oracle.qubits)  # Check if number is greater than 5\n",
    "oracle.measure_all()\n",
    "\n",
    "# Use Grover's algorithm to amplify the marked state\n",
    "grover = Grover(quantum_instance=Aer.get_backend('aer_simulator'))\n",
    "result = grover.amplify(oracle)\n",
    "\n",
    "# Get and display the results\n",
    "counts = result.circuit_results[0]\n",
    "plot_histogram(counts)\n"
   ]
  },
  {
   "cell_type": "code",
   "execution_count": 10,
   "id": "d6147990-8d46-4041-b29b-ddd635498ed3",
   "metadata": {
    "tags": []
   },
   "outputs": [
    {
     "name": "stdout",
     "output_type": "stream",
     "text": [
      "Traceback \u001b[1;36m(most recent call last)\u001b[0m:\n",
      "\u001b[0m  Cell \u001b[0;32mIn[10], line 8\u001b[0m\n",
      "    oracle.append(IntegerComparator(5, 21 // 3, geq=False), range(6))  # Check if number is less than 7\u001b[0m\n",
      "\u001b[0m  File \u001b[0;32m/opt/conda/lib/python3.10/site-packages/qiskit/circuit/quantumcircuit.py:1289\u001b[0m in \u001b[0;35mappend\u001b[0m\n",
      "    for qarg, carg in operation.broadcast_arguments(expanded_qargs, expanded_cargs):\u001b[0m\n",
      "\u001b[1;36m  File \u001b[1;32m/opt/conda/lib/python3.10/site-packages/qiskit/circuit/instruction.py:490\u001b[1;36m in \u001b[1;35mbroadcast_arguments\u001b[1;36m\n",
      "\u001b[1;33m    raise CircuitError(\u001b[1;36m\n",
      "\u001b[1;31mCircuitError\u001b[0m\u001b[1;31m:\u001b[0m 'The amount of qubit arguments 6 does not match the instruction expectation (10).'\n",
      "\n",
      "Use %tb to get the full traceback.\n"
     ]
    },
    {
     "data": {
      "text/html": [
       "\n",
       "<style>\n",
       ".button {\n",
       "  border: none;\n",
       "  color: white;\n",
       "  padding: 4px 8px;\n",
       "  text-align: center;\n",
       "  text-decoration: none;\n",
       "  display: inline-block;\n",
       "  font-size: 12px;\n",
       "  margin: 4px 2px;\n",
       "  transition-duration: 0.2s;\n",
       "  cursor: pointer;\n",
       "}\n",
       ".iqx-button {\n",
       "  background-color: #0f62fe; \n",
       "  color: white; \n",
       "}\n",
       ".iqx-button:hover {\n",
       "  background-color: #0043ce;\n",
       "  color: white;\n",
       "}\n",
       "</style>\n",
       "<a href=\"https://stackoverflow.com/search?q=CircuitError: The amount of qubit arguments 6 does not match the instruction expectation (10).\" target='_blank'><button class='button iqx-button'>Search for solution online</button></a>\n"
      ],
      "text/plain": [
       "<IPython.core.display.HTML object>"
      ]
     },
     "metadata": {},
     "output_type": "display_data"
    }
   ],
   "source": [
    "from qiskit import Aer, QuantumCircuit, transpile, assemble\n",
    "from qiskit.visualization import plot_histogram\n",
    "from qiskit.circuit.library import IntegerComparator\n",
    "from qiskit_algorithms import Grover  # Adjusted import path for Grover\n",
    "\n",
    "# Define the Oracle for N=21\n",
    "oracle = QuantumCircuit(6)  # We use 5 qubits to encode the numbers up to 21, and 1 additional qubit for the output of the comparisons\n",
    "oracle.append(IntegerComparator(5, 21 // 3, geq=False), range(6))  # Check if number is less than 7\n",
    "oracle.append(IntegerComparator(5, 21 // 7, leq=False), range(6))  # Check if number is greater than 3\n",
    "oracle.measure_all()\n",
    "\n",
    "# Use Grover's algorithm to amplify the marked state\n",
    "grover = Grover(quantum_instance=Aer.get_backend('aer_simulator'))\n",
    "result = grover.amplify(oracle)\n",
    "\n",
    "# Get and display the results\n",
    "counts = result.circuit_results[0]\n",
    "plot_histogram(counts)\n"
   ]
  },
  {
   "cell_type": "code",
   "execution_count": null,
   "id": "69767fe9-a06b-43ad-ae6a-2ceaaaadd8ae",
   "metadata": {},
   "outputs": [],
   "source": []
  }
 ],
 "metadata": {
  "kernelspec": {
   "display_name": "Python 3 (ipykernel)",
   "language": "python",
   "name": "python3"
  },
  "language_info": {
   "codemirror_mode": {
    "name": "ipython",
    "version": 3
   },
   "file_extension": ".py",
   "mimetype": "text/x-python",
   "name": "python",
   "nbconvert_exporter": "python",
   "pygments_lexer": "ipython3",
   "version": "3.10.8"
  },
  "widgets": {
   "application/vnd.jupyter.widget-state+json": {
    "state": {},
    "version_major": 2,
    "version_minor": 0
   }
  }
 },
 "nbformat": 4,
 "nbformat_minor": 5
}
