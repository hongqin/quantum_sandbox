{
 "cells": [
  {
   "cell_type": "code",
   "execution_count": 87,
   "id": "d9d9e48a-1bf0-4345-bff1-89a3cf53fe9b",
   "metadata": {
    "tags": []
   },
   "outputs": [],
   "source": [
    "from qiskit import QuantumCircuit\n",
    "from qiskit.circuit import QuantumRegister\n",
    "from qiskit import QuantumCircuit, QuantumRegister, ClassicalRegister\n",
    "from qiskit.circuit.library import QFT\n",
    "from qiskit.providers.aer import AerSimulator"
   ]
  },
  {
   "cell_type": "code",
   "execution_count": 88,
   "id": "30d7263b-4c76-4a12-ba06-c1750cdd6cfa",
   "metadata": {
    "tags": []
   },
   "outputs": [],
   "source": [
    "from qiskit import QuantumCircuit\n",
    "\n",
    "def c_amod15(a):\n",
    "    if a not in [2, 4, 7, 8, 11, 13]:\n",
    "        raise ValueError(\"'a' must not have common factors with 15\")\n",
    "\n",
    "    U = QuantumCircuit(4)\n",
    "\n",
    "    if a in [2, 13]:\n",
    "        U.swap(2, 3)\n",
    "        U.swap(1, 2)\n",
    "        U.swap(0, 1)\n",
    "    if a in [7, 8]:\n",
    "        U.swap(0, 1)\n",
    "        U.swap(1, 2)\n",
    "        U.swap(2, 3)\n",
    "    if a in [4, 11]:\n",
    "        U.swap(1, 3)\n",
    "        U.swap(0, 2)\n",
    "    if a in [7, 11, 13]:\n",
    "        for q in range(4):\n",
    "            U.x(q)\n",
    "\n",
    "    U = U.to_gate()\n",
    "    U.name = f\"{a} mod 15\"\n",
    "    c_U = U.control()\n",
    "\n",
    "    return c_U\n"
   ]
  },
  {
   "cell_type": "code",
   "execution_count": 89,
   "id": "6e08f920-914b-4cd6-99a0-ee3edc8fa9eb",
   "metadata": {
    "tags": []
   },
   "outputs": [],
   "source": [
    "def phase_estimation(controlled_operation: QuantumCircuit, psi_prep: QuantumCircuit, precision: int):\n",
    "    \"\"\"\n",
    "    Carry out phase estimation on a simulator.\n",
    "    Args:\n",
    "        controlled_operation: The operation to perform phase estimation on, controlled by one qubit.\n",
    "        psi_prep: Circuit to prepare |ψ>\n",
    "        precision: Number of counting qubits to use\n",
    "    Returns:\n",
    "        float: Best guess for phase of U|ψ>\n",
    "    \"\"\"\n",
    "    control_register = QuantumRegister(precision)\n",
    "    output_register = ClassicalRegister(precision)\n",
    "\n",
    "    target_register = QuantumRegister(psi_prep.num_qubits)\n",
    "    qc = QuantumCircuit(control_register, target_register, output_register)\n",
    "\n",
    "    # Prepare |ψ>\n",
    "    qc.compose(psi_prep, qubits=target_register, inplace=True)\n",
    "\n",
    "    # Do phase estimation\n",
    "    for index, qubit in enumerate(control_register):\n",
    "        qc.h(qubit)\n",
    "        for _ in range(2**index):\n",
    "            qc.compose(controlled_operation, qubits=[qubit] + list(target_register), inplace=True)\n",
    "\n",
    "    # Inverse Quantum Fourier Transform\n",
    "    qc.compose(QFT(precision, inverse=True), qubits=control_register, inplace=True)\n",
    "\n",
    "    # Decompose the circuit into the basic gates that the Aer simulator understands\n",
    "    qc = qc.decompose()\n",
    "\n",
    "    qc.measure(control_register, output_register)\n",
    "\n",
    "    measurement = Sampler().run(qc, shots=1).result().quasi_dists[0].popitem()[0]\n",
    "    return measurement / 2**precision"
   ]
  },
  {
   "cell_type": "code",
   "execution_count": 98,
   "id": "d1b0d639-9344-4b98-9d1a-affebb3394ff",
   "metadata": {
    "tags": []
   },
   "outputs": [
    {
     "data": {
      "image/png": "[encoded data removed]",
      "text/plain": [
       "<Figure size 203.885x367.889 with 1 Axes>"
      ]
     },
     "metadata": {},
     "output_type": "display_data"
    }
   ],
   "source": [
    "psi_prep = QuantumCircuit(4)\n",
    "psi_prep.x(0)\n",
    "display(psi_prep.draw())"
   ]
  },
  {
   "cell_type": "code",
   "execution_count": 97,
   "id": "59ffba0d-a9fb-4ff8-ac83-dd38fd9af723",
   "metadata": {
    "tags": []
   },
   "outputs": [
    {
     "data": {
      "image/png": "[encoded data removed]",
      "text/plain": [
       "<Figure size 1541.66x367.889 with 1 Axes>"
      ]
     },
     "metadata": {},
     "output_type": "display_data"
    }
   ],
   "source": [
    "from qiskit.circuit.library import QFT\n",
    "\n",
    "display(QFT(4).decompose().draw())"
   ]
  },
  {
   "cell_type": "code",
   "execution_count": 96,
   "id": "ab80b471-2245-4d74-83c0-5a966022a598",
   "metadata": {
    "tags": []
   },
   "outputs": [
    {
     "name": "stdout",
     "output_type": "stream",
     "text": [
      "\n",
      "Attempt 1\n",
      "\n",
      "Attempt 2\n",
      "\n",
      "Attempt 3\n",
      "\n",
      "Attempt 4\n",
      "Period: Non-trivial factor found: (4, 3)\n"
     ]
    }
   ],
   "source": [
    "from fractions import Fraction\n",
    "from math import gcd\n",
    "from qiskit import QuantumCircuit\n",
    "\n",
    "# Assuming c_amod15 and phase_estimation functions are defined elsewhere\n",
    "# from your_module import c_amod15, phase_estimation\n",
    "\n",
    "a = 2\n",
    "N = 15\n",
    "\n",
    "FACTOR_FOUND = False\n",
    "ATTEMPT = 0\n",
    "while not FACTOR_FOUND:\n",
    "    ATTEMPT += 1\n",
    "    print(f\"\\nAttempt {ATTEMPT}\")\n",
    "\n",
    "    # Define psi_prep\n",
    "    psi_prep = QuantumCircuit(4)\n",
    "    psi_prep.x(0)\n",
    "\n",
    "    phase = phase_estimation(\n",
    "        c_amod15(a),\n",
    "        psi_prep,\n",
    "        precision=8\n",
    "    )\n",
    "    frac = Fraction(phase).limit_denominator(N)\n",
    "    r = frac.denominator\n",
    "    if phase != 0:\n",
    "        # Guess for a factor is gcd(a^(r/2) - 1, N)\n",
    "        guess = gcd(pow(a, r // 2) - 1, N)\n",
    "        if guess not in [1, N] and (N % guess) == 0:\n",
    "            # Guess is a factor!\n",
    "            print(f\"Period: Non-trivial factor found: {r, guess}\")\n",
    "            FACTOR_FOUND = True\n"
   ]
  },
  {
   "cell_type": "code",
   "execution_count": null,
   "id": "a2da9fdc-2b4c-4d5d-bbbf-f91b94e337a3",
   "metadata": {},
   "outputs": [],
   "source": []
  }
 ],
 "metadata": {
  "kernelspec": {
   "display_name": "Python 3 (ipykernel)",
   "language": "python",
   "name": "python3"
  },
  "language_info": {
   "codemirror_mode": {
    "name": "ipython",
    "version": 3
   },
   "file_extension": ".py",
   "mimetype": "text/x-python",
   "name": "python",
   "nbconvert_exporter": "python",
   "pygments_lexer": "ipython3",
   "version": "3.10.8"
  },
  "widgets": {
   "application/vnd.jupyter.widget-state+json": {
    "state": {
     "0203ec109e01458ea2a05daca43dcd53": {
      "model_module": "@jupyter-widgets/controls",
      "model_module_version": "2.0.0",
      "model_name": "HBoxModel",
      "state": {
       "children": [
        "IPY_MODEL_3095154d1cb84cd1861c462e0d05c8bc",
        "IPY_MODEL_767fe3463fe847f99cc7919f7ba5cecb",
        "IPY_MODEL_99db273cb03c419e980415d812388a72",
        "IPY_MODEL_676507dda81749c48a90179b05541cd8",
        "IPY_MODEL_a0c4e11eb69a46edb412240c6e0ad2ef"
       ],
       "layout": "IPY_MODEL_1374b21c9acc484b877fad1045c99d3b"
      }
     },
     "1374b21c9acc484b877fad1045c99d3b": {
      "model_module": "@jupyter-widgets/base",
      "model_module_version": "2.0.0",
      "model_name": "LayoutModel",
      "state": {
       "margin": "0px 0px 0px 37px",
       "width": "600px"
      }
     },
     "26cc3071a82b4d04bb999e925e3c5cb4": {
      "model_module": "@jupyter-widgets/base",
      "model_module_version": "2.0.0",
      "model_name": "LayoutModel",
      "state": {
       "margin": "0px 0px 10px 0px"
      }
     },
     "3095154d1cb84cd1861c462e0d05c8bc": {
      "model_module": "@jupyter-widgets/controls",
      "model_module_version": "2.0.0",
      "model_name": "HTMLModel",
      "state": {
       "layout": "IPY_MODEL_7955106acfd2411baf53676d360ff392",
       "style": "IPY_MODEL_49fca77e49e24ac68bc092246c1fadbb",
       "value": "<h5>Job ID</h5>"
      }
     },
     "33019b53ab44453cbbea52ef756be12c": {
      "model_module": "@jupyter-widgets/controls",
      "model_module_version": "2.0.0",
      "model_name": "HTMLStyleModel",
      "state": {
       "description_width": "",
       "font_size": null,
       "text_color": null
      }
     },
     "3426ab2864de405c9f31f4d73dd6c0c6": {
      "model_module": "@jupyter-widgets/controls",
      "model_module_version": "2.0.0",
      "model_name": "HTMLModel",
      "state": {
       "layout": "IPY_MODEL_26cc3071a82b4d04bb999e925e3c5cb4",
       "style": "IPY_MODEL_529c0c5c8f124f278ddcee9e14300dd7",
       "value": "<p style='font-family: IBM Plex Sans, Arial, Helvetica, sans-serif; font-size: 20px; font-weight: medium;'>Circuit Properties</p>"
      }
     },
     "4840d8e686714afa931766c71839b7a6": {
      "model_module": "@jupyter-widgets/base",
      "model_module_version": "2.0.0",
      "model_name": "LayoutModel",
      "state": {
       "grid_area": "right",
       "padding": "0px 0px 0px 0px",
       "width": "70px"
      }
     },
     "495cac6583b34d51a76a5ac7ba7cba38": {
      "model_module": "@jupyter-widgets/controls",
      "model_module_version": "2.0.0",
      "model_name": "ButtonStyleModel",
      "state": {
       "font_family": null,
       "font_size": null,
       "font_style": null,
       "font_variant": null,
       "font_weight": null,
       "text_color": null,
       "text_decoration": null
      }
     },
     "49e963cad60b4bac9318f4e2d402f9e7": {
      "model_module": "@jupyter-widgets/controls",
      "model_module_version": "2.0.0",
      "model_name": "HTMLStyleModel",
      "state": {
       "description_width": "",
       "font_size": null,
       "text_color": null
      }
     },
     "49fca77e49e24ac68bc092246c1fadbb": {
      "model_module": "@jupyter-widgets/controls",
      "model_module_version": "2.0.0",
      "model_name": "HTMLStyleModel",
      "state": {
       "description_width": "",
       "font_size": null,
       "text_color": null
      }
     },
     "529c0c5c8f124f278ddcee9e14300dd7": {
      "model_module": "@jupyter-widgets/controls",
      "model_module_version": "2.0.0",
      "model_name": "HTMLStyleModel",
      "state": {
       "description_width": "",
       "font_size": null,
       "text_color": null
      }
     },
     "5e0aedf30e51421481ab5a37afac5a9c": {
      "model_module": "@jupyter-widgets/base",
      "model_module_version": "2.0.0",
      "model_name": "LayoutModel",
      "state": {
       "width": "70px"
      }
     },
     "61da6d42c4d24f4f80c3fc5b747c84fd": {
      "model_module": "@jupyter-widgets/base",
      "model_module_version": "2.0.0",
      "model_name": "LayoutModel",
      "state": {}
     },
     "676507dda81749c48a90179b05541cd8": {
      "model_module": "@jupyter-widgets/controls",
      "model_module_version": "2.0.0",
      "model_name": "HTMLModel",
      "state": {
       "layout": "IPY_MODEL_5e0aedf30e51421481ab5a37afac5a9c",
       "style": "IPY_MODEL_49e963cad60b4bac9318f4e2d402f9e7",
       "value": "<h5>Queue</h5>"
      }
     },
     "767fe3463fe847f99cc7919f7ba5cecb": {
      "model_module": "@jupyter-widgets/controls",
      "model_module_version": "2.0.0",
      "model_name": "HTMLModel",
      "state": {
       "layout": "IPY_MODEL_bf8f882d7c24468f9655646dea0a8ab7",
       "style": "IPY_MODEL_91985813a36e4cf0897c75d19f516015",
       "value": "<h5>Backend</h5>"
      }
     },
     "7955106acfd2411baf53676d360ff392": {
      "model_module": "@jupyter-widgets/base",
      "model_module_version": "2.0.0",
      "model_name": "LayoutModel",
      "state": {
       "width": "190px"
      }
     },
     "91985813a36e4cf0897c75d19f516015": {
      "model_module": "@jupyter-widgets/controls",
      "model_module_version": "2.0.0",
      "model_name": "HTMLStyleModel",
      "state": {
       "description_width": "",
       "font_size": null,
       "text_color": null
      }
     },
     "99db273cb03c419e980415d812388a72": {
      "model_module": "@jupyter-widgets/controls",
      "model_module_version": "2.0.0",
      "model_name": "HTMLModel",
      "state": {
       "layout": "IPY_MODEL_f60cb5ea65d144f4b1432fde03c001cc",
       "style": "IPY_MODEL_e4167bb65e4c4c06bc9ad80eaef44dea",
       "value": "<h5>Status</h5>"
      }
     },
     "a0c4e11eb69a46edb412240c6e0ad2ef": {
      "model_module": "@jupyter-widgets/controls",
      "model_module_version": "2.0.0",
      "model_name": "HTMLModel",
      "state": {
       "layout": "IPY_MODEL_61da6d42c4d24f4f80c3fc5b747c84fd",
       "style": "IPY_MODEL_33019b53ab44453cbbea52ef756be12c",
       "value": "<h5>Message</h5>"
      }
     },
     "abbcf7b5665b42678032f90a8b88c180": {
      "model_module": "@jupyter-widgets/controls",
      "model_module_version": "2.0.0",
      "model_name": "GridBoxModel",
      "state": {
       "children": [
        "IPY_MODEL_f43b9a58b4334dc2a58494045c9bc512"
       ],
       "layout": "IPY_MODEL_c9f428bed433413fa17bb672f5a0b57a"
      }
     },
     "bf8f882d7c24468f9655646dea0a8ab7": {
      "model_module": "@jupyter-widgets/base",
      "model_module_version": "2.0.0",
      "model_name": "LayoutModel",
      "state": {
       "width": "145px"
      }
     },
     "c9f428bed433413fa17bb672f5a0b57a": {
      "model_module": "@jupyter-widgets/base",
      "model_module_version": "2.0.0",
      "model_name": "LayoutModel",
      "state": {
       "grid_template_areas": "\n                                       \". . . . right \"\n                                        ",
       "grid_template_columns": "20% 20% 20% 20% 20%",
       "width": "100%"
      }
     },
     "e4167bb65e4c4c06bc9ad80eaef44dea": {
      "model_module": "@jupyter-widgets/controls",
      "model_module_version": "2.0.0",
      "model_name": "HTMLStyleModel",
      "state": {
       "description_width": "",
       "font_size": null,
       "text_color": null
      }
     },
     "f43b9a58b4334dc2a58494045c9bc512": {
      "model_module": "@jupyter-widgets/controls",
      "model_module_version": "2.0.0",
      "model_name": "ButtonModel",
      "state": {
       "button_style": "primary",
       "description": "Clear",
       "layout": "IPY_MODEL_4840d8e686714afa931766c71839b7a6",
       "style": "IPY_MODEL_495cac6583b34d51a76a5ac7ba7cba38",
       "tooltip": null
      }
     },
     "f60cb5ea65d144f4b1432fde03c001cc": {
      "model_module": "@jupyter-widgets/base",
      "model_module_version": "2.0.0",
      "model_name": "LayoutModel",
      "state": {
       "width": "95px"
      }
     }
    },
    "version_major": 2,
    "version_minor": 0
   }
  }
 },
 "nbformat": 4,
 "nbformat_minor": 5
}
