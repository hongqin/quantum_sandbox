{
  "nbformat": 4,
  "nbformat_minor": 0,
  "metadata": {
    "colab": {
      "provenance": [],
      "include_colab_link": true
    },
    "kernelspec": {
      "name": "python3",
      "display_name": "Python 3"
    },
    "language_info": {
      "name": "python"
    }
  },
  "cells": [
    {
      "cell_type": "markdown",
      "metadata": {
        "id": "view-in-github",
        "colab_type": "text"
      },
      "source": [
        "<a href=\"https://colab.research.google.com/github/hongqin/quantum_sandbox/blob/main/20240709_QCworkshop_Ex01_LinearRegression.ipynb\" target=\"_parent\"><img src=\"https://colab.research.google.com/assets/colab-badge.svg\" alt=\"Open In Colab\"/></a>"
      ]
    },
    {
      "cell_type": "markdown",
      "source": [
        "### QC Workshop: Ex 01 -- Family Plan using Linear Regression\n",
        "### Author: Yu Liang, CSE Department, UTC"
      ],
      "metadata": {
        "id": "YbeGAc1zpnZV"
      }
    },
    {
      "cell_type": "markdown",
      "source": [
        "### Step 1: Train the linear regression using training samples"
      ],
      "metadata": {
        "id": "jVZH2nFvqv-o"
      }
    },
    {
      "cell_type": "code",
      "source": [
        "from sklearn.linear_model import LinearRegression\n",
        "import numpy as np\n",
        "\n",
        "X = np.array([[1], [3], [4]])\n",
        "y = np.array([1.0, 2.5, 3.0])\n",
        "\n",
        "model = LinearRegression().fit(X, y)\n",
        "\n",
        "model.score(X, y)\n",
        "\n",
        "model.coef_\n",
        "\n",
        "model.intercept_\n",
        "\n",
        "model.predict(np.array([[3]]))"
      ],
      "metadata": {
        "colab": {
          "base_uri": "https://localhost:8080/"
        },
        "id": "9Oqvs6zUp9Hz",
        "outputId": "8575b838-d19f-4dd6-92fa-574b90429250"
      },
      "execution_count": null,
      "outputs": [
        {
          "output_type": "execute_result",
          "data": {
            "text/plain": [
              "array([2.39285714])"
            ]
          },
          "metadata": {},
          "execution_count": 4
        }
      ]
    },
    {
      "cell_type": "markdown",
      "source": [
        "### Step 2: Testing the model"
      ],
      "metadata": {
        "id": "sNL415Udqjjz"
      }
    },
    {
      "cell_type": "code",
      "source": [
        "model.predict(np.array([[3]]))\n",
        "model.predict(np.array([[5]]))"
      ],
      "metadata": {
        "id": "RPH1Xw86qfzd"
      },
      "execution_count": null,
      "outputs": []
    },
    {
      "cell_type": "markdown",
      "source": [
        "### Step 3: Predict the cost with 11 children"
      ],
      "metadata": {
        "id": "qEYUzLw5rE6p"
      }
    },
    {
      "cell_type": "code",
      "source": [
        "model.predict(np.array([[11]]))"
      ],
      "metadata": {
        "colab": {
          "base_uri": "https://localhost:8080/"
        },
        "id": "TBOgtNg1qPKx",
        "outputId": "f458a388-d48f-4e68-f40c-8a26bdcca8ae"
      },
      "execution_count": null,
      "outputs": [
        {
          "output_type": "execute_result",
          "data": {
            "text/plain": [
              "array([7.82142857])"
            ]
          },
          "metadata": {},
          "execution_count": 7
        }
      ]
    }
  ]
}