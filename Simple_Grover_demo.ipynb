{
 "cells": [
  {
   "cell_type": "markdown",
   "id": "f531e7f7-b906-4f6a-a740-10c59f665a6e",
   "metadata": {},
   "source": [
    "Original code from https://github.com/primaryobjects/oracle, modified by Hanadi Mohamed. "
   ]
  },
  {
   "cell_type": "code",
   "execution_count": 1,
   "id": "a5b2b299-0feb-4528-beb7-3fb96265fee9",
   "metadata": {
    "tags": []
   },
   "outputs": [
    {
     "name": "stdout",
     "output_type": "stream",
     "text": [
      "Requirement already satisfied: tweedledum in /opt/conda/lib/python3.10/site-packages (1.1.1)\n",
      "\n",
      "\u001b[1m[\u001b[0m\u001b[34;49mnotice\u001b[0m\u001b[1;39;49m]\u001b[0m\u001b[39;49m A new release of pip available: \u001b[0m\u001b[31;49m23.1.1\u001b[0m\u001b[39;49m -> \u001b[0m\u001b[32;49m23.3.1\u001b[0m\n",
      "\u001b[1m[\u001b[0m\u001b[34;49mnotice\u001b[0m\u001b[1;39;49m]\u001b[0m\u001b[39;49m To update, run: \u001b[0m\u001b[32;49mpip install --upgrade pip\u001b[0m\n",
      "Note: you may need to restart the kernel to use updated packages.\n"
     ]
    }
   ],
   "source": [
    "pip install tweedledum"
   ]
  },
  {
   "cell_type": "code",
   "execution_count": 2,
   "id": "fed566cc-2450-4cf1-b35b-3d46ba07d89f",
   "metadata": {
    "tags": []
   },
   "outputs": [],
   "source": [
    "# Importing standard Qiskit libraries\n",
    "from qiskit import QuantumCircuit, transpile\n",
    "from qiskit.tools.jupyter import *\n",
    "from qiskit.visualization import *\n",
    "from ibm_quantum_widgets import *\n",
    "\n",
    "# qiskit-ibmq-provider has been deprecated.\n",
    "# Please see the Migration Guides in https://ibm.biz/provider_migration_guide for more detail.\n",
    "from qiskit_ibm_runtime import QiskitRuntimeService, Sampler, Estimator, Session, Options\n",
    "\n",
    "# Loading your IBM Quantum account(s)\n",
    "service = QiskitRuntimeService(channel=\"ibm_quantum\")\n",
    "\n",
    "# Invoke a primitive. For more details see https://qiskit.org/documentation/partners/qiskit_ibm_runtime/tutorials.html\n",
    "# result = Sampler(\"ibmq_qasm_simulator\").run(circuits).result()"
   ]
  },
  {
   "cell_type": "markdown",
   "id": "baeb87ac-115a-4497-9e66-58383f16d778",
   "metadata": {},
   "source": [
    "util"
   ]
  },
  {
   "cell_type": "code",
   "execution_count": 3,
   "id": "ca45cc78-72eb-4606-b627-11c56e1dc665",
   "metadata": {
    "tags": []
   },
   "outputs": [],
   "source": [
    "import ast\n",
    "import random\n",
    "import string\n",
    "import time\n",
    "import pathlib\n",
    "import configparser\n",
    "from math import ceil, log\n",
    "from configparser import RawConfigParser\n",
    "from qiskit import qiskit, Aer, IBMQ, QuantumCircuit\n",
    "\n",
    "def random_letters(n):\n",
    "    # Generate an array of random letters.\n",
    "    letters = []\n",
    "    for i in range(n):\n",
    "        letters.append(random.choice(string.ascii_letters))\n",
    "    return letters\n",
    "\n",
    "def random_number(minimum, maximum):\n",
    "    # Uses a quantum circuit to generate a random number from minimum (inclusive) to maximum (exclusive).\n",
    "    # Determine the number of qubits required.\n",
    "    n = num_qubits(maximum-1)\n",
    "\n",
    "    # Create a quantum circuit with enough qubits for the max value.\n",
    "    qc = QuantumCircuit(n)\n",
    "\n",
    "    # Place all qubits into superposition.\n",
    "    qc.h(range(n))\n",
    "\n",
    "    # Measure the result.\n",
    "    qc.measure_all()\n",
    "\n",
    "    # Continue executing the circuit until we obtain a value within range.\n",
    "    r = -1\n",
    "    count = 0\n",
    "    max_count = 10\n",
    "    while (r < minimum or r >= maximum) and count < max_count:\n",
    "        # Execute the circuit.\n",
    "        result = execute(qc)\n",
    "\n",
    "        # Get the resulting hit counts.\n",
    "        counts = result.get_counts()\n",
    "\n",
    "        # Find the most frequent hit count.\n",
    "        key = max(counts, key=counts.get)\n",
    "\n",
    "        # Since the quantum computer returns a binary string (one bit for each qubit), we need to convert it to an integer.\n",
    "        r = int(key, 2)\n",
    "\n",
    "        # Increment the count before we break.\n",
    "        count = count + 1\n",
    "\n",
    "    return r\n",
    "\n",
    "def num_qubits(i):\n",
    "    # Returns the number of qubits needed to represent the value i.\n",
    "    return ceil(log(i, 2))\n",
    "\n",
    "def execute(qc):\n",
    "    # Setup the API key for the real quantum computer.\n",
    "   # parser = RawConfigParser()\n",
    "   # parser.read('config.ini')\n",
    "\n",
    "    # Read configuration values.\n",
    "   # proxies = ast.literal_eval(parser.get('IBM', 'proxies')) if parser.has_option('IBM', 'proxies') else None\n",
    "   # verify = (True if parser.get('IBM', 'verify') == 'True' else False) if parser.has_option('IBM', 'verify') else True\n",
    "    #token = parser.get('IBM', 'key')\n",
    "    is_sim = True\n",
    "   # is_sim = token == 'YOUR_API_KEY'\n",
    "    #is_sim = token == 'tsAI7_sxy4XIIRfscBAIKPRJ1pzfD6yDqxw8phZ1b9vO'\n",
    "    \n",
    "   # if not is_sim:\n",
    "   #     execute.provider = execute.provider or IBMQ.enable_account(token = token, proxies = proxies, verify = verify) or IBMQ.load_account()\n",
    "    #    backend = execute.provider.backends(simulator=False)[1]\n",
    "   # else:\n",
    "    backend = Aer.get_backend('aer_simulator')\n",
    "\n",
    "    if not is_sim:\n",
    "        print(\"Running on\", backend.name())\n",
    "\n",
    "    start = time.time()\n",
    "    job = qiskit.execute(qc, backend)\n",
    "    result = job.result()\n",
    "    stop = time.time()\n",
    "\n",
    "    if not is_sim:\n",
    "        print(\"Request completed in \" + str(round((stop - start) / 60, 2)) + \"m \" + str(round((stop - start) % 60, 2)) + \"s\")\n",
    "\n",
    "    return result"
   ]
  },
  {
   "cell_type": "markdown",
   "id": "b698170a-510d-4633-9d6b-0810b75a4e7f",
   "metadata": {},
   "source": [
    "grover"
   ]
  },
  {
   "cell_type": "code",
   "execution_count": 4,
   "id": "2deef974-b106-4ee1-a2eb-039273e66266",
   "metadata": {
    "tags": []
   },
   "outputs": [],
   "source": [
    "from qiskit import QuantumCircuit\n",
    "from qiskit.circuit.classicalregister import ClassicalRegister\n",
    "from qiskit.circuit.quantumregister import QuantumRegister\n",
    "\n",
    "def diffuser(n):\n",
    "    qc = QuantumCircuit(n)\n",
    "\n",
    "    # Apply transformation |s> -> |00..0> (H-gates)\n",
    "    qc.h(range(n))\n",
    "\n",
    "    # Apply transformation |00..0> -> |11..1> (X-gates)\n",
    "    qc.x(range(n))\n",
    "\n",
    "    # Do multi-controlled-Z gate\n",
    "    qc.h(n-1)\n",
    "    qc.mct(list(range(n-1)), n-1)  # multi-controlled-toffoli\n",
    "    qc.h(n-1)\n",
    "\n",
    "    # Apply transformation |11..1> -> |00..0>\n",
    "    for qubit in range(n):\n",
    "        qc.x(qubit)\n",
    "\n",
    "    # Apply transformation |00..0> -> |s>\n",
    "    qc.h(range(n))\n",
    "\n",
    "    # We will return the diffuser as a gate\n",
    "    gate = qc.to_gate()\n",
    "    gate.name = \"diffuser\"\n",
    "\n",
    "    return gate\n",
    "\n",
    "def grover(oracle, logic, n):\n",
    "    # The circuit is a Grover's search for the all-ones state.\n",
    "    var = QuantumRegister(n, 'var')\n",
    "    out = QuantumRegister(1, 'out')\n",
    "    cr = ClassicalRegister(n, 'c')\n",
    "    qc = QuantumCircuit(var, out, cr)\n",
    "\n",
    "    # Initialize the output qubit to a phase-flip.\n",
    "    qc.x(n)\n",
    "    qc.h(n)\n",
    "\n",
    "    # Apply the Hadamard gate to every qubit.\n",
    "    qc.h(var)\n",
    "    qc.barrier()\n",
    "\n",
    "    # Apply the oracle to every qubit.\n",
    "    qc.append(oracle(logic, n), range(n+1))\n",
    "    qc.barrier()\n",
    "\n",
    "    # Apply the diffuser to every qubit.\n",
    "    qc.append(diffuser(n), range(n))\n",
    "    qc.barrier()\n",
    "\n",
    "    # Undo the output qubit phase-flip.\n",
    "    qc.h(n)\n",
    "    qc.x(n)\n",
    "\n",
    "    qc.measure(var, cr)\n",
    "    #Testing\n",
    "    #qc.draw(\"mpl\")\n",
    "    return qc"
   ]
  },
  {
   "cell_type": "markdown",
   "id": "0bdf7210-0a87-4104-8707-d4ce6c3aa365",
   "metadata": {},
   "source": [
    "logic"
   ]
  },
  {
   "cell_type": "code",
   "execution_count": 5,
   "id": "bafd111f-41cc-4a37-9be7-90366923e671",
   "metadata": {
    "tags": []
   },
   "outputs": [],
   "source": [
    "from qiskit import QuantumCircuit\n",
    "from qiskit.circuit.classicalfunction.classicalfunction import ClassicalFunction\n",
    "\n",
    "def oracle(logic, n):\n",
    "    '''\n",
    "    Returns a quantum circuit that implementes the logic for n qubits.\n",
    "    Parameters:\n",
    "    logic: a Python function using the format below.\n",
    "            def oracle_func(x1: Int1, x2: Int1, x3: Int1) -> Int1:\\n  return (x1 and not x2 and not x3)\n",
    "    n: the number of qubits in the circuit.\n",
    "    '''\n",
    "\n",
    "    # Convert the logic to a quantum circuit.\n",
    "    formula = ClassicalFunction(logic)\n",
    "    fc = formula.synth()\n",
    "\n",
    "    # Convert the quantum circuit to a quantum program.\n",
    "    qc = QuantumCircuit(n+1)\n",
    "    qc.compose(fc, inplace=True)\n",
    "\n",
    "    print(qc.draw())\n",
    "\n",
    "    # Convert the oracle to a gate.\n",
    "    gate = qc.to_gate()\n",
    "    gate.name = \"oracle\"\n",
    "\n",
    "    return gate"
   ]
  },
  {
   "cell_type": "code",
   "execution_count": 6,
   "id": "8abd2a7e-5bde-4a61-821c-e4ec0c738f1c",
   "metadata": {
    "tags": []
   },
   "outputs": [],
   "source": [
    "import random\n",
    "from math import floor, log\n",
    "\n",
    "def init(target, n):\n",
    "    # Initialize an array of random letters, including the target ones in the string.\n",
    "    arr = random_letters(n)\n",
    "\n",
    "    # Store used indices so that we don't overwrite target letters.\n",
    "    indices = [-1]\n",
    "\n",
    "    # Select random indices for the target letters.\n",
    "    for i in range(len(target)):\n",
    "        index = -1\n",
    "\n",
    "        # Select a random index until we find one that hasn't been used.\n",
    "        while index in indices:\n",
    "            index = random.randint(0, n - 1)\n",
    "\n",
    "        # Set the target letter at the selected index.\n",
    "        arr[index] = target[i]\n",
    "\n",
    "        # Add the index to the list of used indices.\n",
    "        indices.append(index)\n",
    "    return arr\n",
    "\n",
    "def logic(arr, target, n):\n",
    "    # Finds the indices within arr for each position of target letter and returns a Python function as a string to be used in an oracle.\n",
    "    prog = '''def oracle_func(_PARAMS_) -> Int1:\n",
    "            return _CLAUSE_'''\n",
    "\n",
    "    # Insert the parameters for the function, based upon the number of qubits needed for target.\n",
    "    qubits = floor(log(n, 2))\n",
    "    params = ''\n",
    "    for i in range(qubits):\n",
    "        # x1: Int1, x2: Int1, x3: Int1\n",
    "        params += 'x' + str(i + 1) + ': Int1, '\n",
    "\n",
    "    # Remove the trailing comma.\n",
    "    params = params[:-2]\n",
    "    prog = prog.replace('_PARAMS_', params)\n",
    "\n",
    "    # Insert the clauses for the function, based upon the bit location(s) for the target letter.\n",
    "    # (not x1 and not x2 and not x3) or (x1 and x2 and not x3)\n",
    "    clauses = ''\n",
    "    # Find the next index of the target letter.\n",
    "    index = arr.index(target, 0)\n",
    "    while index != -1:\n",
    "        # Convert the index to a binary string.\n",
    "        bin_str = bin(index)[2:]\n",
    "\n",
    "        # Pad the binary string with zeros to the length of the qubits.\n",
    "        bin_str = bin_str.zfill(qubits)\n",
    "\n",
    "        # Generate the logical string for the clause.\n",
    "        clause = ''\n",
    "        for j in range(len(bin_str)-1, -1, -1):\n",
    "            if bin_str[j] == '0':\n",
    "                clause += 'not '\n",
    "            clause += 'x' + str(len(bin_str) - j) + ' and '\n",
    "\n",
    "        # Trim trailing 'and ' from the clause.\n",
    "        clause = clause[:-5]\n",
    "\n",
    "        # Add parentheses to the clause.\n",
    "        clause = '(' + clause + ')'\n",
    "\n",
    "        # Insert the clause into the clauses.\n",
    "        clauses += clause + ' or '\n",
    "\n",
    "        # Find the next index matching the letter (if any more exist).\n",
    "        try:\n",
    "            index = arr.index(target, index + 1)\n",
    "        except ValueError:\n",
    "            # No more letters found.\n",
    "            index = -1\n",
    "\n",
    "    # Trim trailing 'or ' from the clauses.\n",
    "    clauses = clauses[:-4]\n",
    "    prog = prog.replace('_CLAUSE_', clauses)\n",
    "\n",
    "    return prog\n",
    "\n"
   ]
  },
  {
   "cell_type": "code",
   "execution_count": 7,
   "id": "be772124-6d87-47b9-bb7d-341ed0a06b59",
   "metadata": {
    "tags": []
   },
   "outputs": [
    {
     "name": "stdout",
     "output_type": "stream",
     "text": [
      "3 qubits, 8 possibilities\n",
      "Using random letters:\n",
      "['o', 'h', 'P', 'l', 'C', 'e', 'l', 'l']\n",
      "Finding letter 'h'\n",
      "Figure(203.885x367.889)\n",
      "       ┌───┐      ░ ┌─────────┐ ░ ┌───────────┐ ░      ┌─┐           \n",
      "var_0: ┤ H ├──────░─┤0        ├─░─┤0          ├─░──────┤M├───────────\n",
      "       ├───┤      ░ │         │ ░ │           │ ░      └╥┘┌─┐        \n",
      "var_1: ┤ H ├──────░─┤1        ├─░─┤1 diffuser ├─░───────╫─┤M├────────\n",
      "       ├───┤      ░ │  oracle │ ░ │           │ ░       ║ └╥┘┌─┐     \n",
      "var_2: ┤ H ├──────░─┤2        ├─░─┤2          ├─░───────╫──╫─┤M├─────\n",
      "       ├───┤┌───┐ ░ │         │ ░ └───────────┘ ░ ┌───┐ ║  ║ └╥┘┌───┐\n",
      "  out: ┤ X ├┤ H ├─░─┤3        ├─░───────────────░─┤ H ├─╫──╫──╫─┤ X ├\n",
      "       └───┘└───┘ ░ └─────────┘ ░               ░ └───┘ ║  ║  ║ └───┘\n",
      "  c: 3/═════════════════════════════════════════════════╩══╩══╩══════\n",
      "                                                        0  1  2      \n",
      "{'110': 28, '101': 43, '100': 33, '000': 35, '010': 26, '111': 34, '011': 29, '001': 796}\n",
      "h\n",
      "Finding letter 'e'\n",
      "Figure(203.885x367.889)\n",
      "       ┌───┐      ░ ┌─────────┐ ░ ┌───────────┐ ░      ┌─┐           \n",
      "var_0: ┤ H ├──────░─┤0        ├─░─┤0          ├─░──────┤M├───────────\n",
      "       ├───┤      ░ │         │ ░ │           │ ░      └╥┘┌─┐        \n",
      "var_1: ┤ H ├──────░─┤1        ├─░─┤1 diffuser ├─░───────╫─┤M├────────\n",
      "       ├───┤      ░ │  oracle │ ░ │           │ ░       ║ └╥┘┌─┐     \n",
      "var_2: ┤ H ├──────░─┤2        ├─░─┤2          ├─░───────╫──╫─┤M├─────\n",
      "       ├───┤┌───┐ ░ │         │ ░ └───────────┘ ░ ┌───┐ ║  ║ └╥┘┌───┐\n",
      "  out: ┤ X ├┤ H ├─░─┤3        ├─░───────────────░─┤ H ├─╫──╫──╫─┤ X ├\n",
      "       └───┘└───┘ ░ └─────────┘ ░               ░ └───┘ ║  ║  ║ └───┘\n",
      "  c: 3/═════════════════════════════════════════════════╩══╩══╩══════\n",
      "                                                        0  1  2      \n",
      "{'110': 35, '010': 28, '000': 36, '001': 35, '111': 32, '011': 34, '100': 34, '101': 790}\n",
      "e\n",
      "Finding letter 'l'\n",
      "Figure(287.496x367.889)\n",
      "       ┌───┐      ░ ┌─────────┐ ░ ┌───────────┐ ░      ┌─┐           \n",
      "var_0: ┤ H ├──────░─┤0        ├─░─┤0          ├─░──────┤M├───────────\n",
      "       ├───┤      ░ │         │ ░ │           │ ░      └╥┘┌─┐        \n",
      "var_1: ┤ H ├──────░─┤1        ├─░─┤1 diffuser ├─░───────╫─┤M├────────\n",
      "       ├───┤      ░ │  oracle │ ░ │           │ ░       ║ └╥┘┌─┐     \n",
      "var_2: ┤ H ├──────░─┤2        ├─░─┤2          ├─░───────╫──╫─┤M├─────\n",
      "       ├───┤┌───┐ ░ │         │ ░ └───────────┘ ░ ┌───┐ ║  ║ └╥┘┌───┐\n",
      "  out: ┤ X ├┤ H ├─░─┤3        ├─░───────────────░─┤ H ├─╫──╫──╫─┤ X ├\n",
      "       └───┘└───┘ ░ └─────────┘ ░               ░ └───┘ ║  ║  ║ └───┘\n",
      "  c: 3/═════════════════════════════════════════════════╩══╩══╩══════\n",
      "                                                        0  1  2      \n",
      "{'101': 37, '000': 30, '010': 35, '001': 36, '110': 305, '111': 270, '011': 267, '100': 44}\n",
      "l\n",
      "Finding letter 'l'\n",
      "Figure(287.496x367.889)\n",
      "       ┌───┐      ░ ┌─────────┐ ░ ┌───────────┐ ░      ┌─┐           \n",
      "var_0: ┤ H ├──────░─┤0        ├─░─┤0          ├─░──────┤M├───────────\n",
      "       ├───┤      ░ │         │ ░ │           │ ░      └╥┘┌─┐        \n",
      "var_1: ┤ H ├──────░─┤1        ├─░─┤1 diffuser ├─░───────╫─┤M├────────\n",
      "       ├───┤      ░ │  oracle │ ░ │           │ ░       ║ └╥┘┌─┐     \n",
      "var_2: ┤ H ├──────░─┤2        ├─░─┤2          ├─░───────╫──╫─┤M├─────\n",
      "       ├───┤┌───┐ ░ │         │ ░ └───────────┘ ░ ┌───┐ ║  ║ └╥┘┌───┐\n",
      "  out: ┤ X ├┤ H ├─░─┤3        ├─░───────────────░─┤ H ├─╫──╫──╫─┤ X ├\n",
      "       └───┘└───┘ ░ └─────────┘ ░               ░ └───┘ ║  ║  ║ └───┘\n",
      "  c: 3/═════════════════════════════════════════════════╩══╩══╩══════\n",
      "                                                        0  1  2      \n",
      "{'100': 22, '101': 31, '001': 37, '010': 23, '000': 34, '110': 320, '011': 283, '111': 274}\n",
      "l\n",
      "Finding letter 'o'\n",
      "Figure(203.885x367.889)\n",
      "       ┌───┐      ░ ┌─────────┐ ░ ┌───────────┐ ░      ┌─┐           \n",
      "var_0: ┤ H ├──────░─┤0        ├─░─┤0          ├─░──────┤M├───────────\n",
      "       ├───┤      ░ │         │ ░ │           │ ░      └╥┘┌─┐        \n",
      "var_1: ┤ H ├──────░─┤1        ├─░─┤1 diffuser ├─░───────╫─┤M├────────\n",
      "       ├───┤      ░ │  oracle │ ░ │           │ ░       ║ └╥┘┌─┐     \n",
      "var_2: ┤ H ├──────░─┤2        ├─░─┤2          ├─░───────╫──╫─┤M├─────\n",
      "       ├───┤┌───┐ ░ │         │ ░ └───────────┘ ░ ┌───┐ ║  ║ └╥┘┌───┐\n",
      "  out: ┤ X ├┤ H ├─░─┤3        ├─░───────────────░─┤ H ├─╫──╫──╫─┤ X ├\n",
      "       └───┘└───┘ ░ └─────────┘ ░               ░ └───┘ ║  ║  ║ └───┘\n",
      "  c: 3/═════════════════════════════════════════════════╩══╩══╩══════\n",
      "                                                        0  1  2      \n",
      "{'110': 32, '101': 35, '001': 47, '100': 41, '111': 33, '011': 39, '010': 30, '000': 767}\n",
      "o\n",
      "\n",
      "Random letters:\n",
      "['o', 'h', 'P', 'l', 'C', 'e', 'l', 'l']\n",
      "\n",
      "Final result from the quantum circuit:\n",
      "\n",
      "h (at index 1 [001])\n",
      "e (at index 5 [101])\n",
      "l (at index 6 [110])\n",
      "l (at index 6 [110])\n",
      "o (at index 0 [000])\n"
     ]
    }
   ],
   "source": [
    "def main(phrase):\n",
    "    execute.provider = None\n",
    "\n",
    "    # Calculate the number of qubits needed to represent the number of letters in the target.\n",
    "    qubits = num_qubits(len(phrase))\n",
    "\n",
    "    bits = 2 ** qubits\n",
    "    arr = init(phrase, bits)\n",
    "\n",
    "    print(str(qubits) + ' qubits, ' + str(bits) + ' possibilities')\n",
    "    print('Using random letters:')\n",
    "    print(arr)\n",
    "\n",
    "    # Use the oracle to find the indices of the target letters.\n",
    "    indices = []\n",
    "    for letter in phrase:\n",
    "        print(\"Finding letter '\" + letter + \"'\")\n",
    "\n",
    "        # Generate a logical function for the oracle.\n",
    "        prog = logic(arr, letter, bits)\n",
    "\n",
    "        # Generate the quantum circuit.\n",
    "        qc = grover(oracle, prog, qubits)\n",
    "        print(qc)\n",
    "        #qc.draw(\"mpl\")\n",
    "        # Execute the quantum circuit.\n",
    "        result = execute(qc)\n",
    "\n",
    "        # Get the resulting hit counts.\n",
    "        counts = result.get_counts()\n",
    "        print(counts)\n",
    "\n",
    "        # Find the most frequent hit count.\n",
    "        key = max(counts, key=counts.get)\n",
    "\n",
    "        # Since the quantum computer returns a binary string (one bit for each qubit), we need to convert it to an integer.\n",
    "        index = int(key, 2)\n",
    "\n",
    "        # Print the resulting letter selected by the quantum circuit.\n",
    "        print(arr[index])\n",
    "\n",
    "        indices.append({'binary': key, 'index': index, 'letter': letter})\n",
    "\n",
    "    print('\\nRandom letters:')\n",
    "    print(arr)\n",
    "    print()\n",
    "\n",
    "    print('Final result from the quantum circuit:\\n')\n",
    "    for i in range(len(indices)):\n",
    "        letter = arr[indices[i]['index']]\n",
    "        index = indices[i]['index']\n",
    "        binary = indices[i]['binary']\n",
    "\n",
    "        print(letter + ' (at index ' + str(index) + ' [' + binary + '])')\n",
    "\n",
    "main('hello')"
   ]
  },
  {
   "cell_type": "code",
   "execution_count": null,
   "id": "1b3a6494-61ee-4dde-b5ae-18e6afa6877d",
   "metadata": {},
   "outputs": [],
   "source": []
  },
  {
   "cell_type": "code",
   "execution_count": null,
   "id": "32d7904d-37ae-48fa-a3e7-241297cd0bac",
   "metadata": {},
   "outputs": [],
   "source": []
  },
  {
   "cell_type": "code",
   "execution_count": null,
   "id": "bdcbb734-2c5c-4d56-93c1-9fdab3051705",
   "metadata": {},
   "outputs": [],
   "source": []
  },
  {
   "cell_type": "code",
   "execution_count": null,
   "id": "b17d1cd6-9e3e-4469-a209-539741c15917",
   "metadata": {},
   "outputs": [],
   "source": []
  }
 ],
 "metadata": {
  "kernelspec": {
   "display_name": "Python 3 (ipykernel)",
   "language": "python",
   "name": "python3"
  },
  "language_info": {
   "codemirror_mode": {
    "name": "ipython",
    "version": 3
   },
   "file_extension": ".py",
   "mimetype": "text/x-python",
   "name": "python",
   "nbconvert_exporter": "python",
   "pygments_lexer": "ipython3",
   "version": "3.10.8"
  },
  "widgets": {
   "application/vnd.jupyter.widget-state+json": {
    "state": {
     "06d25267c9774a229032ecaa7786b963": {
      "model_module": "@jupyter-widgets/base",
      "model_module_version": "2.0.0",
      "model_name": "LayoutModel",
      "state": {
       "margin": "0px 0px 10px 0px"
      }
     },
     "0d0d448bcb9344ec92a0cdc6342a9513": {
      "model_module": "@jupyter-widgets/base",
      "model_module_version": "2.0.0",
      "model_name": "LayoutModel",
      "state": {}
     },
     "128c25b1af89465d805bf79065b5eb7b": {
      "model_module": "@jupyter-widgets/base",
      "model_module_version": "2.0.0",
      "model_name": "LayoutModel",
      "state": {
       "margin": "0px 0px 0px 37px",
       "width": "600px"
      }
     },
     "21ded7b605ab471ab0250c74a63630d6": {
      "model_module": "@jupyter-widgets/controls",
      "model_module_version": "2.0.0",
      "model_name": "HTMLStyleModel",
      "state": {
       "description_width": "",
       "font_size": null,
       "text_color": null
      }
     },
     "2305cb9d8cfb4b3f979b12755661cca7": {
      "model_module": "@jupyter-widgets/base",
      "model_module_version": "2.0.0",
      "model_name": "LayoutModel",
      "state": {
       "width": "190px"
      }
     },
     "3330a453c9214a228f4307fbb2fbc700": {
      "model_module": "@jupyter-widgets/controls",
      "model_module_version": "2.0.0",
      "model_name": "ButtonModel",
      "state": {
       "button_style": "primary",
       "description": "Clear",
       "layout": "IPY_MODEL_d0ab509a8cbf43b8a849fadbb732bd25",
       "style": "IPY_MODEL_a1addd8e74234bc2aef3e96aa3966483",
       "tooltip": null
      }
     },
     "33a0b06e520743fb9fe41cf7ddaf1a71": {
      "model_module": "@jupyter-widgets/controls",
      "model_module_version": "2.0.0",
      "model_name": "HTMLModel",
      "state": {
       "layout": "IPY_MODEL_06d25267c9774a229032ecaa7786b963",
       "style": "IPY_MODEL_c5d49fee3453453bb4f69ac2edd4a79a",
       "value": "<p style='font-family: IBM Plex Sans, Arial, Helvetica, sans-serif; font-size: 20px; font-weight: medium;'>Circuit Properties</p>"
      }
     },
     "3419dfad353346e1b7e5755cb5ac1da7": {
      "model_module": "@jupyter-widgets/base",
      "model_module_version": "2.0.0",
      "model_name": "LayoutModel",
      "state": {
       "width": "145px"
      }
     },
     "3ac927553661424bb1d770f01cef5c9e": {
      "model_module": "@jupyter-widgets/controls",
      "model_module_version": "2.0.0",
      "model_name": "HTMLModel",
      "state": {
       "layout": "IPY_MODEL_d9ddcc1218b6418889527fd4f670d055",
       "style": "IPY_MODEL_512c47b970ed409399aacc8efaf7ed4b",
       "value": "<h5>Queue</h5>"
      }
     },
     "40e6a3eb0df247beb2e3e3d30db2fe4b": {
      "model_module": "@jupyter-widgets/base",
      "model_module_version": "2.0.0",
      "model_name": "LayoutModel",
      "state": {
       "grid_template_areas": "\n                                       \". . . . right \"\n                                        ",
       "grid_template_columns": "20% 20% 20% 20% 20%",
       "width": "100%"
      }
     },
     "512c47b970ed409399aacc8efaf7ed4b": {
      "model_module": "@jupyter-widgets/controls",
      "model_module_version": "2.0.0",
      "model_name": "HTMLStyleModel",
      "state": {
       "description_width": "",
       "font_size": null,
       "text_color": null
      }
     },
     "5f462e800e464d7d9ca6f1bd72a29c2a": {
      "model_module": "@jupyter-widgets/controls",
      "model_module_version": "2.0.0",
      "model_name": "HTMLModel",
      "state": {
       "layout": "IPY_MODEL_a5f8747e073c49c1a94f5f33007daa98",
       "style": "IPY_MODEL_674f2708241e47ae93a2edb3b12422d6",
       "value": "<h5>Status</h5>"
      }
     },
     "674f2708241e47ae93a2edb3b12422d6": {
      "model_module": "@jupyter-widgets/controls",
      "model_module_version": "2.0.0",
      "model_name": "HTMLStyleModel",
      "state": {
       "description_width": "",
       "font_size": null,
       "text_color": null
      }
     },
     "9986ed0578684ae6810e3efea60a0c15": {
      "model_module": "@jupyter-widgets/controls",
      "model_module_version": "2.0.0",
      "model_name": "HTMLStyleModel",
      "state": {
       "description_width": "",
       "font_size": null,
       "text_color": null
      }
     },
     "a1addd8e74234bc2aef3e96aa3966483": {
      "model_module": "@jupyter-widgets/controls",
      "model_module_version": "2.0.0",
      "model_name": "ButtonStyleModel",
      "state": {
       "font_family": null,
       "font_size": null,
       "font_style": null,
       "font_variant": null,
       "font_weight": null,
       "text_color": null,
       "text_decoration": null
      }
     },
     "a5f8747e073c49c1a94f5f33007daa98": {
      "model_module": "@jupyter-widgets/base",
      "model_module_version": "2.0.0",
      "model_name": "LayoutModel",
      "state": {
       "width": "95px"
      }
     },
     "a630e79d49744e6a97442967d2f052da": {
      "model_module": "@jupyter-widgets/controls",
      "model_module_version": "2.0.0",
      "model_name": "HTMLModel",
      "state": {
       "layout": "IPY_MODEL_0d0d448bcb9344ec92a0cdc6342a9513",
       "style": "IPY_MODEL_21ded7b605ab471ab0250c74a63630d6",
       "value": "<h5>Message</h5>"
      }
     },
     "b7388aa58ec14a88bf28fb4ca26ecc06": {
      "model_module": "@jupyter-widgets/controls",
      "model_module_version": "2.0.0",
      "model_name": "HTMLStyleModel",
      "state": {
       "description_width": "",
       "font_size": null,
       "text_color": null
      }
     },
     "c542c2bba55e4980b3b0c7af47117cbe": {
      "model_module": "@jupyter-widgets/controls",
      "model_module_version": "2.0.0",
      "model_name": "HTMLModel",
      "state": {
       "layout": "IPY_MODEL_3419dfad353346e1b7e5755cb5ac1da7",
       "style": "IPY_MODEL_b7388aa58ec14a88bf28fb4ca26ecc06",
       "value": "<h5>Backend</h5>"
      }
     },
     "c5d49fee3453453bb4f69ac2edd4a79a": {
      "model_module": "@jupyter-widgets/controls",
      "model_module_version": "2.0.0",
      "model_name": "HTMLStyleModel",
      "state": {
       "description_width": "",
       "font_size": null,
       "text_color": null
      }
     },
     "d0ab509a8cbf43b8a849fadbb732bd25": {
      "model_module": "@jupyter-widgets/base",
      "model_module_version": "2.0.0",
      "model_name": "LayoutModel",
      "state": {
       "grid_area": "right",
       "padding": "0px 0px 0px 0px",
       "width": "70px"
      }
     },
     "d58c009608084656bd5b2f2d43590749": {
      "model_module": "@jupyter-widgets/controls",
      "model_module_version": "2.0.0",
      "model_name": "GridBoxModel",
      "state": {
       "children": [
        "IPY_MODEL_3330a453c9214a228f4307fbb2fbc700"
       ],
       "layout": "IPY_MODEL_40e6a3eb0df247beb2e3e3d30db2fe4b"
      }
     },
     "d779f00a49fd466b85a5948bbfb000bb": {
      "model_module": "@jupyter-widgets/controls",
      "model_module_version": "2.0.0",
      "model_name": "HBoxModel",
      "state": {
       "children": [
        "IPY_MODEL_de638a6200cb4babab9516c2c36be986",
        "IPY_MODEL_c542c2bba55e4980b3b0c7af47117cbe",
        "IPY_MODEL_5f462e800e464d7d9ca6f1bd72a29c2a",
        "IPY_MODEL_3ac927553661424bb1d770f01cef5c9e",
        "IPY_MODEL_a630e79d49744e6a97442967d2f052da"
       ],
       "layout": "IPY_MODEL_128c25b1af89465d805bf79065b5eb7b"
      }
     },
     "d9ddcc1218b6418889527fd4f670d055": {
      "model_module": "@jupyter-widgets/base",
      "model_module_version": "2.0.0",
      "model_name": "LayoutModel",
      "state": {
       "width": "70px"
      }
     },
     "de638a6200cb4babab9516c2c36be986": {
      "model_module": "@jupyter-widgets/controls",
      "model_module_version": "2.0.0",
      "model_name": "HTMLModel",
      "state": {
       "layout": "IPY_MODEL_2305cb9d8cfb4b3f979b12755661cca7",
       "style": "IPY_MODEL_9986ed0578684ae6810e3efea60a0c15",
       "value": "<h5>Job ID</h5>"
      }
     }
    },
    "version_major": 2,
    "version_minor": 0
   }
  }
 },
 "nbformat": 4,
 "nbformat_minor": 5
}
