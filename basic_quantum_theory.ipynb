{
  "nbformat": 4,
  "nbformat_minor": 0,
  "metadata": {
    "colab": {
      "provenance": [],
      "toc_visible": true,
      "authorship_tag": "ABX9TyM19hytoeyetgnufiIF8KSp",
      "include_colab_link": true
    },
    "kernelspec": {
      "name": "python3",
      "display_name": "Python 3"
    },
    "language_info": {
      "name": "python"
    }
  },
  "cells": [
    {
      "cell_type": "markdown",
      "metadata": {
        "id": "view-in-github",
        "colab_type": "text"
      },
      "source": [
        "<a href=\"https://colab.research.google.com/github/hongqin/quantum_sandbox/blob/main/basic_quantum_theory.ipynb\" target=\"_parent\"><img src=\"https://colab.research.google.com/assets/colab-badge.svg\" alt=\"Open In Colab\"/></a>"
      ]
    },
    {
      "cell_type": "markdown",
      "source": [
        "# Chapter 4, Basic quantum theory"
      ],
      "metadata": {
        "id": "MOMjADvoY_Tz"
      }
    },
    {
      "cell_type": "markdown",
      "source": [
        "## Moduls and probability of each state"
      ],
      "metadata": {
        "id": "Rx6TlmKMYkpj"
      }
    },
    {
      "cell_type": "code",
      "execution_count": null,
      "metadata": {
        "colab": {
          "base_uri": "https://localhost:8080/"
        },
        "id": "CejwosIbYihJ",
        "outputId": "d69b666f-dc36-4e80-ecdb-b83ab5daac4e"
      },
      "outputs": [
        {
          "output_type": "stream",
          "name": "stdout",
          "text": [
            "Modulus (Norm) of the complex vector: 5.477225575051661\n",
            "Modulus of element 0: 2.23606797749979, Probability of state 0: 0.16666666666666669\n",
            "Modulus of element 1: 3.1622776601683795, Probability of state 1: 0.33333333333333337\n",
            "Modulus of element 2: 1.4142135623730951, Probability of state 2: 0.06666666666666668\n",
            "Modulus of element 3: 3.605551275463989, Probability of state 3: 0.4333333333333333\n",
            "Total Probability: 1.0\n"
          ]
        }
      ],
      "source": [
        "import numpy as np\n",
        "\n",
        "# Define a 4-element complex vector\n",
        "complex_vector = np.array([1+2j, 3-1j, -1+1j, 2-3j])\n",
        "\n",
        "# Calculate the modulus (norm) of the vector\n",
        "modulus_vector = np.linalg.norm(complex_vector)\n",
        "\n",
        "# Print the modulus of the vector\n",
        "print(f\"Modulus (Norm) of the complex vector: {modulus_vector}\")\n",
        "\n",
        "# Calculate the modulus of each element in the vector\n",
        "modulus_elements = np.abs(complex_vector)\n",
        "\n",
        "# Calculate the probability of each state\n",
        "prob_each_state = (modulus_elements ** 2) / (modulus_vector ** 2)\n",
        "\n",
        "# Print the modulus of each element and the corresponding probability\n",
        "for i, (modulus, prob) in enumerate(zip(modulus_elements, prob_each_state)):\n",
        "    print(f\"Modulus of element {i}: {modulus}, Probability of state {i}: {prob}\")\n",
        "\n",
        "# Confirm that total probability is 1\n",
        "total_prob = np.sum(prob_each_state)\n",
        "print(f\"Total Probability: {total_prob}\")\n",
        "\n"
      ]
    },
    {
      "cell_type": "code",
      "source": [],
      "metadata": {
        "id": "Kv0uUt2uZrKz"
      },
      "execution_count": null,
      "outputs": []
    },
    {
      "cell_type": "markdown",
      "source": [
        "## Bra-ket transition example"
      ],
      "metadata": {
        "id": "97Z5QVwrbH15"
      }
    },
    {
      "cell_type": "code",
      "source": [
        "import numpy as np\n",
        "\n",
        "# Define the initial state |psi>\n",
        "psi = np.array([1 + 1j, 0, 2 - 1j])\n",
        "\n",
        "# Define the end state |psi'>\n",
        "psi_prime = np.array([0, 1 - 1j, 1 + 1j])\n",
        "\n",
        "# Compute the bra <psi'|\n",
        "bra_psi_prime = np.conjugate(psi_prime)\n",
        "\n",
        "# Compute the inner product <psi'|psi>\n",
        "transition_amplitude = np.dot(bra_psi_prime, psi)\n",
        "\n",
        "print(f\"Initial state |psi>: {psi}\")\n",
        "print(f\"End state |psi'>: {psi_prime}\")\n",
        "print(f\"Transition amplitude <psi'|psi>: {transition_amplitude}\")\n"
      ],
      "metadata": {
        "id": "1o_xUyqaZrNz"
      },
      "execution_count": null,
      "outputs": []
    },
    {
      "cell_type": "code",
      "source": [],
      "metadata": {
        "id": "B47Oy7tqZrRQ"
      },
      "execution_count": null,
      "outputs": []
    },
    {
      "cell_type": "code",
      "source": [],
      "metadata": {
        "id": "aO5TGgu5ZrUP"
      },
      "execution_count": null,
      "outputs": []
    },
    {
      "cell_type": "markdown",
      "source": [
        "## Example 4.1.6"
      ],
      "metadata": {
        "id": "2mQtOa7FbkvZ"
      }
    },
    {
      "cell_type": "code",
      "source": [
        "import numpy as np\n",
        "\n",
        "# Define the starting state |psi>\n",
        "psi = np.array([np.sqrt(2)/2, 1j * np.sqrt(2)/2])\n",
        "\n",
        "# Define the end state |phi>\n",
        "phi = np.array([1j * np.sqrt(2)/2, -np.sqrt(2)/2])\n",
        "\n",
        "# Compute the bra <phi|\n",
        "bra_phi = np.conjugate(phi)\n",
        "\n",
        "# Compute the inner product <phi|psi>\n",
        "transition_amplitude = np.dot(bra_phi, psi)\n",
        "\n",
        "print(f\"Starting state |psi>: {psi}\")\n",
        "print(f\"End state |phi>: {phi}\")\n",
        "print(f\"Transition amplitude <phi|psi>: {transition_amplitude}\")\n"
      ],
      "metadata": {
        "colab": {
          "base_uri": "https://localhost:8080/"
        },
        "id": "Lq8OFrK_ZrXa",
        "outputId": "6ca5b108-bd3f-4757-bea2-c412e76057d8"
      },
      "execution_count": 1,
      "outputs": [
        {
          "output_type": "stream",
          "name": "stdout",
          "text": [
            "Starting state |psi>: [0.70710678+0.j         0.        +0.70710678j]\n",
            "End state |phi>: [ 0.        +0.70710678j -0.70710678+0.j        ]\n",
            "Transition amplitude <phi|psi>: -1.0000000000000002j\n"
          ]
        }
      ]
    },
    {
      "cell_type": "markdown",
      "source": [
        "## Exercise 4.1.10"
      ],
      "metadata": {
        "id": "SoBFPZyHcs3a"
      }
    },
    {
      "cell_type": "code",
      "source": [],
      "metadata": {
        "id": "4vM7Qz9-cuwH"
      },
      "execution_count": null,
      "outputs": []
    }
  ]
}