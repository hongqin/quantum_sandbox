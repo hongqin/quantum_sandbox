{
  "nbformat": 4,
  "nbformat_minor": 0,
  "metadata": {
    "colab": {
      "provenance": [],
      "authorship_tag": "ABX9TyNSyHCkU2sooxb7gURR5b7X",
      "include_colab_link": true
    },
    "kernelspec": {
      "name": "python3",
      "display_name": "Python 3"
    },
    "language_info": {
      "name": "python"
    }
  },
  "cells": [
    {
      "cell_type": "markdown",
      "metadata": {
        "id": "view-in-github",
        "colab_type": "text"
      },
      "source": [
        "<a href=\"https://colab.research.google.com/github/hongqin/quantum_sandbox/blob/main/basic_quantum_theory.ipynb\" target=\"_parent\"><img src=\"https://colab.research.google.com/assets/colab-badge.svg\" alt=\"Open In Colab\"/></a>"
      ]
    },
    {
      "cell_type": "markdown",
      "source": [
        "# Chapter 4, Basic quantum theory"
      ],
      "metadata": {
        "id": "MOMjADvoY_Tz"
      }
    },
    {
      "cell_type": "markdown",
      "source": [
        "# Moduls and probability of each state"
      ],
      "metadata": {
        "id": "Rx6TlmKMYkpj"
      }
    },
    {
      "cell_type": "code",
      "execution_count": 2,
      "metadata": {
        "colab": {
          "base_uri": "https://localhost:8080/"
        },
        "id": "CejwosIbYihJ",
        "outputId": "d69b666f-dc36-4e80-ecdb-b83ab5daac4e"
      },
      "outputs": [
        {
          "output_type": "stream",
          "name": "stdout",
          "text": [
            "Modulus (Norm) of the complex vector: 5.477225575051661\n",
            "Modulus of element 0: 2.23606797749979, Probability of state 0: 0.16666666666666669\n",
            "Modulus of element 1: 3.1622776601683795, Probability of state 1: 0.33333333333333337\n",
            "Modulus of element 2: 1.4142135623730951, Probability of state 2: 0.06666666666666668\n",
            "Modulus of element 3: 3.605551275463989, Probability of state 3: 0.4333333333333333\n",
            "Total Probability: 1.0\n"
          ]
        }
      ],
      "source": [
        "import numpy as np\n",
        "\n",
        "# Define a 4-element complex vector\n",
        "complex_vector = np.array([1+2j, 3-1j, -1+1j, 2-3j])\n",
        "\n",
        "# Calculate the modulus (norm) of the vector\n",
        "modulus_vector = np.linalg.norm(complex_vector)\n",
        "\n",
        "# Print the modulus of the vector\n",
        "print(f\"Modulus (Norm) of the complex vector: {modulus_vector}\")\n",
        "\n",
        "# Calculate the modulus of each element in the vector\n",
        "modulus_elements = np.abs(complex_vector)\n",
        "\n",
        "# Calculate the probability of each state\n",
        "prob_each_state = (modulus_elements ** 2) / (modulus_vector ** 2)\n",
        "\n",
        "# Print the modulus of each element and the corresponding probability\n",
        "for i, (modulus, prob) in enumerate(zip(modulus_elements, prob_each_state)):\n",
        "    print(f\"Modulus of element {i}: {modulus}, Probability of state {i}: {prob}\")\n",
        "\n",
        "# Confirm that total probability is 1\n",
        "total_prob = np.sum(prob_each_state)\n",
        "print(f\"Total Probability: {total_prob}\")\n",
        "\n"
      ]
    }
  ]
}