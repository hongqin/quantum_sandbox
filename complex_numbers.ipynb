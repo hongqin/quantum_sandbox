{
  "nbformat": 4,
  "nbformat_minor": 0,
  "metadata": {
    "colab": {
      "provenance": [],
      "authorship_tag": "ABX9TyPMEr6kooF1vSUv2jswk+bv",
      "include_colab_link": true
    },
    "kernelspec": {
      "name": "python3",
      "display_name": "Python 3"
    },
    "language_info": {
      "name": "python"
    }
  },
  "cells": [
    {
      "cell_type": "markdown",
      "metadata": {
        "id": "view-in-github",
        "colab_type": "text"
      },
      "source": [
        "<a href=\"https://colab.research.google.com/github/hongqin/quantum_sandbox/blob/main/complex_numbers.ipynb\" target=\"_parent\"><img src=\"https://colab.research.google.com/assets/colab-badge.svg\" alt=\"Open In Colab\"/></a>"
      ]
    },
    {
      "cell_type": "code",
      "execution_count": 2,
      "metadata": {
        "colab": {
          "base_uri": "https://localhost:8080/"
        },
        "id": "lcS_Gzxwk3Rn",
        "outputId": "fa2f3dff-5335-44f5-d7d3-2ef825283f78"
      },
      "outputs": [
        {
          "output_type": "stream",
          "name": "stdout",
          "text": [
            "The inner product of the vectors is: (70-8j)\n"
          ]
        }
      ],
      "source": [
        "import numpy as np\n",
        "\n",
        "# Define two complex vectors\n",
        "vector1 = np.array([1 + 2j, 3 + 4j])\n",
        "vector2 = np.array([5 + 6j, 7 + 8j])\n",
        "\n",
        "# Compute the inner product using the np.vdot() function\n",
        "inner_product = np.vdot(vector1, vector2)\n",
        "\n",
        "print(f\"The inner product of the vectors is: {inner_product}\")\n"
      ]
    },
    {
      "cell_type": "code",
      "source": [
        "import numpy as np\n",
        "\n",
        "# Define a real value for x (in radians)\n",
        "x = np.pi / 4\n",
        "\n",
        "# Calculate the left side of Euler's formula (exponential form)\n",
        "exp_form = np.exp(1j * x)\n",
        "\n",
        "# Calculate the right side of Euler's formula (trigonometric form)\n",
        "trig_form = np.cos(x) + 1j * np.sin(x)\n",
        "\n",
        "# Print both forms\n",
        "print(f\"Euler's exponential form (e^(ix)): {exp_form}\")\n",
        "print(f\"Euler's trigonometric form (cos(x) + i*sin(x)): {trig_form}\")\n",
        "\n",
        "# Check if both forms are consistent\n",
        "if np.isclose(exp_form, trig_form):\n",
        "    print(\"Both forms are consistent!\")\n",
        "else:\n",
        "    print(\"Both forms are not consistent!\")\n"
      ],
      "metadata": {
        "colab": {
          "base_uri": "https://localhost:8080/"
        },
        "id": "u1kEtNeFk4Tn",
        "outputId": "4be97800-4324-4ea8-d58b-179991eacb32"
      },
      "execution_count": 3,
      "outputs": [
        {
          "output_type": "stream",
          "name": "stdout",
          "text": [
            "Euler's exponential form (e^(ix)): (0.7071067811865476+0.7071067811865475j)\n",
            "Euler's trigonometric form (cos(x) + i*sin(x)): (0.7071067811865476+0.7071067811865475j)\n",
            "Both forms are consistent!\n"
          ]
        }
      ]
    }
  ]
}