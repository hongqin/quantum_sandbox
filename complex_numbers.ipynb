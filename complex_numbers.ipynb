{
  "nbformat": 4,
  "nbformat_minor": 0,
  "metadata": {
    "colab": {
      "provenance": [],
      "authorship_tag": "ABX9TyOLDZ/+i6f4ZM2Uq7xpou6g",
      "include_colab_link": true
    },
    "kernelspec": {
      "name": "python3",
      "display_name": "Python 3"
    },
    "language_info": {
      "name": "python"
    }
  },
  "cells": [
    {
      "cell_type": "markdown",
      "metadata": {
        "id": "view-in-github",
        "colab_type": "text"
      },
      "source": [
        "<a href=\"https://colab.research.google.com/github/hongqin/quantum_sandbox/blob/main/complex_numbers.ipynb\" target=\"_parent\"><img src=\"https://colab.research.google.com/assets/colab-badge.svg\" alt=\"Open In Colab\"/></a>"
      ]
    },
    {
      "cell_type": "code",
      "execution_count": null,
      "metadata": {
        "colab": {
          "base_uri": "https://localhost:8080/"
        },
        "id": "lcS_Gzxwk3Rn",
        "outputId": "fa2f3dff-5335-44f5-d7d3-2ef825283f78"
      },
      "outputs": [
        {
          "output_type": "stream",
          "name": "stdout",
          "text": [
            "The inner product of the vectors is: (70-8j)\n"
          ]
        }
      ],
      "source": [
        "import numpy as np\n",
        "\n",
        "# Define two complex vectors\n",
        "vector1 = np.array([1 + 2j, 3 + 4j])\n",
        "vector2 = np.array([5 + 6j, 7 + 8j])\n",
        "\n",
        "# Compute the inner product using the np.vdot() function\n",
        "inner_product = np.vdot(vector1, vector2)\n",
        "\n",
        "print(f\"The inner product of the vectors is: {inner_product}\")\n"
      ]
    },
    {
      "cell_type": "code",
      "source": [
        "import numpy as np\n",
        "\n",
        "# Define a real value for x (in radians)\n",
        "x = np.pi / 4\n",
        "\n",
        "# Calculate the left side of Euler's formula (exponential form)\n",
        "exp_form = np.exp(1j * x)\n",
        "\n",
        "# Calculate the right side of Euler's formula (trigonometric form)\n",
        "trig_form = np.cos(x) + 1j * np.sin(x)\n",
        "\n",
        "# Print both forms\n",
        "print(f\"Euler's exponential form (e^(ix)): {exp_form}\")\n",
        "print(f\"Euler's trigonometric form (cos(x) + i*sin(x)): {trig_form}\")\n",
        "\n",
        "# Check if both forms are consistent\n",
        "if np.isclose(exp_form, trig_form):\n",
        "    print(\"Both forms are consistent!\")\n",
        "else:\n",
        "    print(\"Both forms are not consistent!\")\n"
      ],
      "metadata": {
        "colab": {
          "base_uri": "https://localhost:8080/"
        },
        "id": "u1kEtNeFk4Tn",
        "outputId": "4be97800-4324-4ea8-d58b-179991eacb32"
      },
      "execution_count": null,
      "outputs": [
        {
          "output_type": "stream",
          "name": "stdout",
          "text": [
            "Euler's exponential form (e^(ix)): (0.7071067811865476+0.7071067811865475j)\n",
            "Euler's trigonometric form (cos(x) + i*sin(x)): (0.7071067811865476+0.7071067811865475j)\n",
            "Both forms are consistent!\n"
          ]
        }
      ]
    },
    {
      "cell_type": "markdown",
      "source": [
        "# Example of complex matrix multiplication"
      ],
      "metadata": {
        "id": "gIyZXo_IiGEs"
      }
    },
    {
      "cell_type": "code",
      "source": [
        "A = np.array([[3 + 2j, 0, 5 - 6j],\n",
        "              [1,  4 + 2j,  1j],\n",
        "              [4-1j, 0, 4]])\n",
        "\n",
        "B = np.array([[5, 2- 1j, 6 - 4j],\n",
        "              [0,  4 + 5j,  2],\n",
        "              [7-4j, 2+7j, 0]])\n"
      ],
      "metadata": {
        "id": "reRWk3JVNCU2"
      },
      "execution_count": null,
      "outputs": []
    },
    {
      "cell_type": "code",
      "source": [
        "np.dot(A,B)"
      ],
      "metadata": {
        "colab": {
          "base_uri": "https://localhost:8080/"
        },
        "id": "Jhsk4ITFNCXu",
        "outputId": "6041eca3-e24c-40da-e8aa-93d8c0e49061"
      },
      "execution_count": null,
      "outputs": [
        {
          "output_type": "execute_result",
          "data": {
            "text/plain": [
              "array([[26.-52.j, 60.+24.j, 26. +0.j],\n",
              "       [ 9. +7.j,  1.+29.j, 14. +0.j],\n",
              "       [48.-21.j, 15.+22.j, 20.-22.j]])"
            ]
          },
          "metadata": {},
          "execution_count": 7
        }
      ]
    },
    {
      "cell_type": "code",
      "source": [
        "import numpy as np\n",
        "from scipy.linalg import hadamard\n",
        "H = hadamard(2)\n",
        "H\n",
        "np.dot(H, H)"
      ],
      "metadata": {
        "id": "ecNN-qMvnTNB",
        "outputId": "75b2e5b7-0ec2-49a9-b197-f8bf8446f3fb",
        "colab": {
          "base_uri": "https://localhost:8080/"
        }
      },
      "execution_count": null,
      "outputs": [
        {
          "output_type": "execute_result",
          "data": {
            "text/plain": [
              "array([[2, 0],\n",
              "       [0, 2]])"
            ]
          },
          "metadata": {},
          "execution_count": 16
        }
      ]
    },
    {
      "cell_type": "code",
      "source": [
        "H = ( 1/np.sqrt(2) )* np.array( [[1, 1],\n",
        "                            [1, -1]])\n",
        "H\n",
        "np.dot(H, H)"
      ],
      "metadata": {
        "id": "wgImPsFDmYSR",
        "outputId": "ac915925-e265-4d78-c294-7859552d4768",
        "colab": {
          "base_uri": "https://localhost:8080/"
        }
      },
      "execution_count": null,
      "outputs": [
        {
          "output_type": "execute_result",
          "data": {
            "text/plain": [
              "array([[ 1.00000000e+00, -2.23711432e-17],\n",
              "       [-2.23711432e-17,  1.00000000e+00]])"
            ]
          },
          "metadata": {},
          "execution_count": 19
        }
      ]
    },
    {
      "cell_type": "code",
      "source": [
        "np.sqrt(4)"
      ],
      "metadata": {
        "id": "Ay4Sm3EwmYVE",
        "outputId": "980eb1b4-7429-4e9c-94b9-8b030704a66e",
        "colab": {
          "base_uri": "https://localhost:8080/"
        }
      },
      "execution_count": null,
      "outputs": [
        {
          "output_type": "execute_result",
          "data": {
            "text/plain": [
              "2.0"
            ]
          },
          "metadata": {},
          "execution_count": 11
        }
      ]
    },
    {
      "cell_type": "code",
      "source": [],
      "metadata": {
        "id": "coLTllcls7i0"
      },
      "execution_count": null,
      "outputs": []
    },
    {
      "cell_type": "markdown",
      "source": [
        "# Verify matrix inner product of <A,B> = trace of (A^H, B). Eq2.110 in book"
      ],
      "metadata": {
        "id": "vj0nwGwns_nm"
      }
    },
    {
      "cell_type": "code",
      "source": [],
      "metadata": {
        "id": "YXL6OLGMwcui"
      },
      "execution_count": null,
      "outputs": []
    },
    {
      "cell_type": "code",
      "source": [],
      "metadata": {
        "id": "PH75XdKZwc8_"
      },
      "execution_count": null,
      "outputs": []
    },
    {
      "cell_type": "code",
      "source": [
        "import numpy as np\n",
        "\n",
        "# Define two complex matrices A and B\n",
        "A = np.array([[1 + 1j, 2 - 3j],\n",
        "              [3 + 4j, 4 - 1j]])\n",
        "B = np.array([[5 + 5j, 6 - 7j],\n",
        "              [7 + 8j, 8 - 5j]])\n",
        "\n",
        "# Compute the conjugate transpose of A (A's Hermitian transpose)\n",
        "A_conj_T = A.conj().T\n",
        "\n",
        "# Compute the product of A's conjugate transpose and B\n",
        "product_AH_B = np.dot(A_conj_T, B)\n",
        "\n",
        "# Compute the trace of the product (sum of diagonal elements)\n",
        "trace_product_AH_B = np.trace(product_AH_B)\n",
        "\n",
        "# Compute the inner product of A and B\n",
        "# The inner product is computed as the sum of the element-wise product of the conjugate of A and B\n",
        "inner_product = np.vdot(A, B)\n",
        "\n",
        "# Print the results\n",
        "print(\"Trace of (A^H * B):\", trace_product_AH_B)\n",
        "print(\"Inner product of A and B:\", inner_product)\n",
        "\n",
        "# Verify that they are the same\n",
        "if np.isclose(trace_product_AH_B, inner_product):\n",
        "    print(\"Verified: The inner product is equal to the trace of the product of A's conjugate transpose and B.\")\n",
        "else:\n",
        "    print(\"Not equal.\")\n",
        "\n",
        "\n"
      ],
      "metadata": {
        "colab": {
          "base_uri": "https://localhost:8080/"
        },
        "id": "-O3aj478s7lj",
        "outputId": "5b16e766-ed61-4001-8fa2-4ccb50312487"
      },
      "execution_count": 2,
      "outputs": [
        {
          "output_type": "stream",
          "name": "stdout",
          "text": [
            "Trace of (A^H * B): (133-12j)\n",
            "Inner product of A and B: (133-12j)\n",
            "Verified: The inner product is equal to the trace of the product of A's conjugate transpose and B.\n"
          ]
        }
      ]
    },
    {
      "cell_type": "code",
      "source": [],
      "metadata": {
        "id": "S28TKnvYs7oi"
      },
      "execution_count": null,
      "outputs": []
    },
    {
      "cell_type": "markdown",
      "source": [
        "# Eigen value and Eigen vector"
      ],
      "metadata": {
        "id": "Dy1_W4Ylx9P-"
      }
    },
    {
      "cell_type": "code",
      "source": [
        "import numpy as np\n",
        "import matplotlib.pyplot as plt\n",
        "\n",
        "# Define a 2x2 real-valued matrix\n",
        "A = np.array([[4, -1],\n",
        "              [2, 1]])\n",
        "\n",
        "# Compute the eigenvalues and eigenvectors of the matrix\n",
        "eigenvalues, eigenvectors = np.linalg.eig(A)\n",
        "\n",
        "# Print the eigenvalues\n",
        "print(\"Eigenvalues:\")\n",
        "print(eigenvalues)\n",
        "\n",
        "# Print the eigenvectors\n",
        "print(\"Eigenvectors:\")\n",
        "print(eigenvectors)\n",
        "\n",
        "# Plot the eigenvectors\n",
        "for i in range(len(eigenvalues)):\n",
        "    plt.quiver(0, 0, eigenvectors[0, i], eigenvectors[1, i], angles='xy', scale_units='xy', scale=1, label=f'Eigenvalue: {eigenvalues[i]}')\n",
        "plt.xlim(-1, 1)\n",
        "plt.ylim(-1, 1)\n",
        "plt.axhline(0, color='black', lw=0.5)\n",
        "plt.axvline(0, color='black', lw=0.5)\n",
        "plt.legend()\n",
        "plt.grid()\n",
        "plt.title('Eigenvectors')\n",
        "plt.xlabel('X')\n",
        "plt.ylabel('Y')\n",
        "plt.show()\n"
      ],
      "metadata": {
        "colab": {
          "base_uri": "https://localhost:8080/",
          "height": 561
        },
        "id": "bPPSFPiFs7rj",
        "outputId": "0a459e9a-0272-4848-c0e6-b9af6bcc8eb5"
      },
      "execution_count": 7,
      "outputs": [
        {
          "output_type": "stream",
          "name": "stdout",
          "text": [
            "Eigenvalues:\n",
            "[3. 2.]\n",
            "Eigenvectors:\n",
            "[[0.70710678 0.4472136 ]\n",
            " [0.70710678 0.89442719]]\n"
          ]
        },
        {
          "output_type": "display_data",
          "data": {
            "text/plain": [
              "<Figure size 640x480 with 1 Axes>"
            ],
            "image/png": "[encoded data removed]"
          },
          "metadata": {}
        }
      ]
    },
    {
      "cell_type": "code",
      "source": [
        "import numpy as np\n",
        "import matplotlib.pyplot as plt\n",
        "\n",
        "# Define a 2x2 real-valued matrix\n",
        "A = np.array([[4, -1],\n",
        "              [2, 1]])\n",
        "\n",
        "# Compute the eigenvalues and eigenvectors of the matrix\n",
        "eigenvalues, eigenvectors = np.linalg.eig(A)\n",
        "\n",
        "# Print and plot the eigenvalues and eigenvectors\n",
        "for i in range(len(eigenvalues)):\n",
        "    print(f\"Eigenvalue {i + 1}: {eigenvalues[i]}\")\n",
        "    print(f\"Corresponding Eigenvector: {eigenvectors[:, i]}\")\n",
        "\n",
        "    # Plot the eigenvector scaled by the corresponding eigenvalue\n",
        "    plt.quiver(0, 0, eigenvectors[0, i] * eigenvalues[i], eigenvectors[1, i] * eigenvalues[i], angles='xy', scale_units='xy', scale=1, label=f'Eigenvalue {i + 1}')\n",
        "\n",
        "plt.xlim(-2, 2)\n",
        "plt.ylim(-2, 2)\n",
        "plt.axhline(0, color='black', lw=0.5)\n",
        "plt.axvline(0, color='black', lw=0.5)\n",
        "plt.legend()\n",
        "plt.grid()\n",
        "plt.title('Eigenvectors Scaled by Eigenvalues')\n",
        "plt.xlabel('X')\n",
        "plt.ylabel('Y')\n",
        "plt.show()\n"
      ],
      "metadata": {
        "id": "PfimEJs_mYYc",
        "colab": {
          "base_uri": "https://localhost:8080/",
          "height": 543
        },
        "outputId": "af271483-5cc2-43dc-eb3c-17b1ab79d688"
      },
      "execution_count": 8,
      "outputs": [
        {
          "output_type": "stream",
          "name": "stdout",
          "text": [
            "Eigenvalue 1: 3.0\n",
            "Corresponding Eigenvector: [0.70710678 0.70710678]\n",
            "Eigenvalue 2: 2.0\n",
            "Corresponding Eigenvector: [0.4472136  0.89442719]\n"
          ]
        },
        {
          "output_type": "display_data",
          "data": {
            "text/plain": [
              "<Figure size 640x480 with 1 Axes>"
            ],
            "image/png": "[encoded data removed]"
          },
          "metadata": {}
        }
      ]
    },
    {
      "cell_type": "code",
      "source": [],
      "metadata": {
        "id": "gDFGHTweyxx8"
      },
      "execution_count": null,
      "outputs": []
    },
    {
      "cell_type": "code",
      "source": [],
      "metadata": {
        "id": "FUU2giKuyx02"
      },
      "execution_count": null,
      "outputs": []
    },
    {
      "cell_type": "code",
      "source": [],
      "metadata": {
        "id": "WCAptVdWyx4d"
      },
      "execution_count": null,
      "outputs": []
    },
    {
      "cell_type": "code",
      "source": [
        "import numpy as np\n",
        "\n",
        "def is_hermitian(matrix):\n",
        "    # Conjugate transpose (Hermitian transpose) of the matrix\n",
        "    conjugate_transpose = np.conj(matrix).T\n",
        "\n",
        "    # Check if the original matrix is equal to its conjugate transpose\n",
        "    #return np.array_equal(matrix, conjugate_transpose)\n",
        "    return np.allclose(matrix, conjugate_transpose) #for floating point\n",
        "\n",
        "# Example usage\n",
        "A = np.array([[3.5, 2 + 1j],\n",
        "              [2 - 1j, 1]])\n",
        "\n",
        "if is_hermitian(A):\n",
        "    print(\"The matrix is Hermitian.\")\n",
        "else:\n",
        "    print(\"The matrix is not Hermitian\")\n"
      ],
      "metadata": {
        "colab": {
          "base_uri": "https://localhost:8080/"
        },
        "id": "i-FKx4WnNCSJ",
        "outputId": "b2fe17dd-2c51-45d6-edba-fbcafe261a40"
      },
      "execution_count": null,
      "outputs": [
        {
          "output_type": "stream",
          "name": "stdout",
          "text": [
            "The matrix is Hermitian.\n"
          ]
        }
      ]
    },
    {
      "cell_type": "code",
      "source": [],
      "metadata": {
        "id": "9p7PMiS_NCan"
      },
      "execution_count": null,
      "outputs": []
    },
    {
      "cell_type": "code",
      "source": [],
      "metadata": {
        "id": "58WxNVUSNCdn"
      },
      "execution_count": null,
      "outputs": []
    }
  ]
}